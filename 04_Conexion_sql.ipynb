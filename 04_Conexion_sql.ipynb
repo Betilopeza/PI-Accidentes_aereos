{
 "cells": [
  {
   "cell_type": "code",
   "execution_count": 1,
   "metadata": {},
   "outputs": [],
   "source": [
    "# Importamos las librerías\n",
    "import mysql.connector\n",
    "import pandas as pd"
   ]
  },
  {
   "cell_type": "code",
   "execution_count": 2,
   "metadata": {},
   "outputs": [],
   "source": [
    "# Importamos los datos\n",
    "df=pd.read_csv('Accidentes_tratado.csv')"
   ]
  },
  {
   "cell_type": "code",
   "execution_count": 3,
   "metadata": {},
   "outputs": [],
   "source": [
    "# Establecemos la conexión a MySQL\n",
    "conexion = mysql.connector.connect(\n",
    "    host='localhost',\n",
    "    user='root',\n",
    "    password='root1234'\n",
    ")"
   ]
  },
  {
   "cell_type": "code",
   "execution_count": 4,
   "metadata": {},
   "outputs": [],
   "source": [
    "# Instanciamos el cursor \n",
    "cursor = conexion.cursor()\n"
   ]
  },
  {
   "cell_type": "code",
   "execution_count": 5,
   "metadata": {},
   "outputs": [],
   "source": [
    "#creamos la base de datos 'Accidentes_aviones' si no existe\n",
    "cursor.execute(\"CREATE DATABASE IF NOT EXISTS Accidentes_aviones;\")\n",
    "cursor.execute(\"USE Accidentes_aviones;\")"
   ]
  },
  {
   "cell_type": "code",
   "execution_count": 6,
   "metadata": {},
   "outputs": [],
   "source": [
    "# Creamos la tabla 'Accidentes_aviones'\n",
    "cursor.execute(\"\"\"\n",
    "    CREATE TABLE IF NOT EXISTS Accidentes_aviones (\n",
    "        date DATE,\n",
    "        time TIME,\n",
    "        location VARCHAR(250),\n",
    "        airline_operator VARCHAR(250),\n",
    "        route VARCHAR(250),\n",
    "        aircraft_type VARCHAR(250),\n",
    "        all_aboard INT,\n",
    "        passengers_aboard INT,\n",
    "        crew_aboard INT,\n",
    "        total_fatalities INT,\n",
    "        passengers_fatalities INT,\n",
    "        crew_fatalities INT,\n",
    "        summary VARCHAR(5000),\n",
    "        year INT,\n",
    "        date_time DATE,\n",
    "        country VARCHAR(150),\n",
    "        city VARCHAR(150),\n",
    "        accident_on_water VARCHAR(150),\n",
    "        category VARCHAR(150),\n",
    "        survivors INT,\n",
    "        survival_rate FLOAT\n",
    "    )\n",
    "\"\"\")"
   ]
  },
  {
   "cell_type": "code",
   "execution_count": 7,
   "metadata": {},
   "outputs": [],
   "source": [
    "# Definimos los datos a utilizar\n",
    "data = df.to_dict('records')"
   ]
  },
  {
   "cell_type": "code",
   "execution_count": 8,
   "metadata": {},
   "outputs": [],
   "source": [
    "# Escribimos la consulta SQL para insertar un solo registro\n",
    "insert_query = \"\"\"\n",
    "    INSERT INTO Accidentes_aviones\n",
    "    (date, time, location, airline_operator, route, aircraft_type, all_aboard, passengers_aboard, crew_aboard, total_fatalities, passengers_fatalities, crew_fatalities, summary, year,date_time, country, city, accident_on_water, category, survivors,survival_rate)\n",
    "    VALUES\n",
    "    (%(date)s, %(time)s, %(location)s, %(airline_operator)s, %(route)s, %(aircraft_type)s, %(all_aboard)s, %(passengers_aboard)s, %(crew_aboard)s, %(total_fatalities)s, %(passenger_fatalities)s, %(crew_fatalities)s, %(summary)s, %(year)s, %(date_time)s, %(country)s, %(city)s, %(accident_on_water)s, %(category)s, %(survivors)s, %(survival_rate)s)\n",
    "\"\"\""
   ]
  },
  {
   "cell_type": "code",
   "execution_count": 9,
   "metadata": {},
   "outputs": [],
   "source": [
    "# Ejecutamos la inserción de datos para cada registro\n",
    "for row in data:\n",
    "    row = {key: None if pd.isna(value) else value for key, value in row.items()}\n",
    "    cursor.execute(insert_query, row)"
   ]
  },
  {
   "cell_type": "code",
   "execution_count": 10,
   "metadata": {},
   "outputs": [],
   "source": [
    "# Confirmamos los cambios en la base de datos\n",
    "conexion.commit()"
   ]
  },
  {
   "cell_type": "code",
   "execution_count": 11,
   "metadata": {},
   "outputs": [
    {
     "name": "stdout",
     "output_type": "stream",
     "text": [
      "(datetime.date(1908, 9, 17), datetime.timedelta(seconds=62280), 'Fort Myer,Virginia, United States', 'Military - U.S. Army', 'Demonstration', 'Wright Flyer III', 2, 1, 1, 1, 1, 0, 'During a demonstration flight, a U.S. Army flyer flown by Orville Wright nose-dived into the ground from a height of approximately 75 feet, killing Lt. Thomas E. Selfridge, 26, who was a passenger. This was the first recorded airplane fatality in history.  One of two propellers separated in flight, tearing loose the wires bracing the rudder and causing the loss of control of the aircraft.  Orville Wright suffered broken ribs, pelvis and a leg.  Selfridge suffered a crushed skull and died a short time later.', 1908, datetime.date(1908, 9, 17), 'United States', 'Fort Myer,Virginia', '0', 'military', 1, 50.0)\n",
      "(datetime.date(1908, 9, 17), datetime.timedelta(seconds=62280), 'Fort Myer,Virginia, United States', 'Military - U.S. Army', 'Demonstration', 'Wright Flyer III', 2, 1, 1, 1, 1, 0, 'During a demonstration flight, a U.S. Army flyer flown by Orville Wright nose-dived into the ground from a height of approximately 75 feet, killing Lt. Thomas E. Selfridge, 26, who was a passenger. This was the first recorded airplane fatality in history.  One of two propellers separated in flight, tearing loose the wires bracing the rudder and causing the loss of control of the aircraft.  Orville Wright suffered broken ribs, pelvis and a leg.  Selfridge suffered a crushed skull and died a short time later.', 1908, datetime.date(1908, 9, 17), 'United States', 'Fort Myer,Virginia', '0', 'military', 1, 50.0)\n",
      "(datetime.date(1908, 9, 17), datetime.timedelta(seconds=62280), 'Fort Myer,Virginia, United States', 'Military - U.S. Army', 'Demonstration', 'Wright Flyer III', 2, 1, 1, 1, 1, 0, 'During a demonstration flight, a U.S. Army flyer flown by Orville Wright nose-dived into the ground from a height of approximately 75 feet, killing Lt. Thomas E. Selfridge, 26, who was a passenger. This was the first recorded airplane fatality in history.  One of two propellers separated in flight, tearing loose the wires bracing the rudder and causing the loss of control of the aircraft.  Orville Wright suffered broken ribs, pelvis and a leg.  Selfridge suffered a crushed skull and died a short time later.', 1908, datetime.date(1908, 9, 17), 'United States', 'Fort Myer,Virginia', '0', 'military', 1, 50.0)\n",
      "(datetime.date(1908, 9, 17), datetime.timedelta(seconds=62280), 'Fort Myer,Virginia, United States', 'Military - U.S. Army', 'Demonstration', 'Wright Flyer III', 2, 1, 1, 1, 1, 0, 'During a demonstration flight, a U.S. Army flyer flown by Orville Wright nose-dived into the ground from a height of approximately 75 feet, killing Lt. Thomas E. Selfridge, 26, who was a passenger. This was the first recorded airplane fatality in history.  One of two propellers separated in flight, tearing loose the wires bracing the rudder and causing the loss of control of the aircraft.  Orville Wright suffered broken ribs, pelvis and a leg.  Selfridge suffered a crushed skull and died a short time later.', 1908, datetime.date(1908, 9, 17), 'United States', 'Fort Myer,Virginia', '0', 'military', 1, 50.0)\n",
      "(datetime.date(1908, 9, 17), datetime.timedelta(seconds=62280), 'Fort Myer,Virginia, United States', 'Military - U.S. Army', 'Demonstration', 'Wright Flyer III', 2, 1, 1, 1, 1, 0, 'During a demonstration flight, a U.S. Army flyer flown by Orville Wright nose-dived into the ground from a height of approximately 75 feet, killing Lt. Thomas E. Selfridge, 26, who was a passenger. This was the first recorded airplane fatality in history.  One of two propellers separated in flight, tearing loose the wires bracing the rudder and causing the loss of control of the aircraft.  Orville Wright suffered broken ribs, pelvis and a leg.  Selfridge suffered a crushed skull and died a short time later.', 1908, datetime.date(1908, 9, 17), 'United States', 'Fort Myer,Virginia', '0', 'military', 1, 50.0)\n"
     ]
    }
   ],
   "source": [
    "#Verificamos que se hayan cargado correctamente los valores\n",
    "cursor.execute('select * from Accidentes_aviones order by year limit 5;')\n",
    "for a in cursor:\n",
    "    print(a)"
   ]
  },
  {
   "cell_type": "code",
   "execution_count": 12,
   "metadata": {},
   "outputs": [],
   "source": [
    "# Cerrar la conexión\n",
    "cursor.close()\n",
    "conexion.close()"
   ]
  }
 ],
 "metadata": {
  "kernelspec": {
   "display_name": "Python 3",
   "language": "python",
   "name": "python3"
  },
  "language_info": {
   "codemirror_mode": {
    "name": "ipython",
    "version": 3
   },
   "file_extension": ".py",
   "mimetype": "text/x-python",
   "name": "python",
   "nbconvert_exporter": "python",
   "pygments_lexer": "ipython3",
   "version": "3.11.2"
  }
 },
 "nbformat": 4,
 "nbformat_minor": 2
}
