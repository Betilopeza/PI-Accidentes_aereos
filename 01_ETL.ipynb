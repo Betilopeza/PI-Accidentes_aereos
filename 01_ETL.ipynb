{
 "cells": [
  {
   "cell_type": "markdown",
   "metadata": {},
   "source": [
    "# Proyecto Individual Data Analytics: Accidentes aéreos"
   ]
  },
  {
   "cell_type": "markdown",
   "metadata": {},
   "source": [
    "## 1)Importamos las librerías necesarias "
   ]
  },
  {
   "cell_type": "code",
   "execution_count": 1,
   "metadata": {},
   "outputs": [],
   "source": [
    "#Importamos las librerías necesarias\n",
    "import pandas as pd\n",
    "import numpy as np\n",
    "from datetime import datetime\n",
    "import re"
   ]
  },
  {
   "cell_type": "code",
   "execution_count": 2,
   "metadata": {},
   "outputs": [],
   "source": [
    "#Leemos la información del csv brindado\n",
    "df=pd.read_csv('AccidentesAviones.csv')"
   ]
  },
  {
   "cell_type": "code",
   "execution_count": 3,
   "metadata": {},
   "outputs": [
    {
     "data": {
      "text/html": [
       "<div>\n",
       "<style scoped>\n",
       "    .dataframe tbody tr th:only-of-type {\n",
       "        vertical-align: middle;\n",
       "    }\n",
       "\n",
       "    .dataframe tbody tr th {\n",
       "        vertical-align: top;\n",
       "    }\n",
       "\n",
       "    .dataframe thead th {\n",
       "        text-align: right;\n",
       "    }\n",
       "</style>\n",
       "<table border=\"1\" class=\"dataframe\">\n",
       "  <thead>\n",
       "    <tr style=\"text-align: right;\">\n",
       "      <th></th>\n",
       "      <th>Unnamed: 0</th>\n",
       "      <th>fecha</th>\n",
       "      <th>HORA declarada</th>\n",
       "      <th>Ruta</th>\n",
       "      <th>OperadOR</th>\n",
       "      <th>flight_no</th>\n",
       "      <th>route</th>\n",
       "      <th>ac_type</th>\n",
       "      <th>registration</th>\n",
       "      <th>cn_ln</th>\n",
       "      <th>all_aboard</th>\n",
       "      <th>PASAJEROS A BORDO</th>\n",
       "      <th>crew_aboard</th>\n",
       "      <th>cantidad de fallecidos</th>\n",
       "      <th>passenger_fatalities</th>\n",
       "      <th>crew_fatalities</th>\n",
       "      <th>ground</th>\n",
       "      <th>summary</th>\n",
       "    </tr>\n",
       "  </thead>\n",
       "  <tbody>\n",
       "    <tr>\n",
       "      <th>0</th>\n",
       "      <td>0</td>\n",
       "      <td>September 17, 1908</td>\n",
       "      <td>1718</td>\n",
       "      <td>Fort Myer, Virginia</td>\n",
       "      <td>Military - U.S. Army</td>\n",
       "      <td>?</td>\n",
       "      <td>Demonstration</td>\n",
       "      <td>Wright Flyer III</td>\n",
       "      <td>?</td>\n",
       "      <td>1</td>\n",
       "      <td>2</td>\n",
       "      <td>1</td>\n",
       "      <td>1</td>\n",
       "      <td>1</td>\n",
       "      <td>1</td>\n",
       "      <td>0</td>\n",
       "      <td>0</td>\n",
       "      <td>During a demonstration flight, a U.S. Army fly...</td>\n",
       "    </tr>\n",
       "    <tr>\n",
       "      <th>1</th>\n",
       "      <td>1</td>\n",
       "      <td>September 07, 1909</td>\n",
       "      <td>?</td>\n",
       "      <td>Juvisy-sur-Orge, France</td>\n",
       "      <td>?</td>\n",
       "      <td>?</td>\n",
       "      <td>Air show</td>\n",
       "      <td>Wright Byplane</td>\n",
       "      <td>SC1</td>\n",
       "      <td>?</td>\n",
       "      <td>1</td>\n",
       "      <td>0</td>\n",
       "      <td>1</td>\n",
       "      <td>1</td>\n",
       "      <td>0</td>\n",
       "      <td>0</td>\n",
       "      <td>0</td>\n",
       "      <td>Eugene Lefebvre was the first pilot to ever be...</td>\n",
       "    </tr>\n",
       "    <tr>\n",
       "      <th>2</th>\n",
       "      <td>2</td>\n",
       "      <td>July 12, 1912</td>\n",
       "      <td>0630</td>\n",
       "      <td>Atlantic City, New Jersey</td>\n",
       "      <td>Military - U.S. Navy</td>\n",
       "      <td>?</td>\n",
       "      <td>Test flight</td>\n",
       "      <td>Dirigible</td>\n",
       "      <td>?</td>\n",
       "      <td>?</td>\n",
       "      <td>5</td>\n",
       "      <td>0</td>\n",
       "      <td>5</td>\n",
       "      <td>5</td>\n",
       "      <td>0</td>\n",
       "      <td>5</td>\n",
       "      <td>0</td>\n",
       "      <td>First U.S. dirigible Akron exploded just offsh...</td>\n",
       "    </tr>\n",
       "    <tr>\n",
       "      <th>3</th>\n",
       "      <td>3</td>\n",
       "      <td>August 06, 1913</td>\n",
       "      <td>?</td>\n",
       "      <td>Victoria, British Columbia, Canada</td>\n",
       "      <td>Private</td>\n",
       "      <td>?</td>\n",
       "      <td>?</td>\n",
       "      <td>Curtiss seaplane</td>\n",
       "      <td>?</td>\n",
       "      <td>?</td>\n",
       "      <td>1</td>\n",
       "      <td>0</td>\n",
       "      <td>1</td>\n",
       "      <td>1</td>\n",
       "      <td>0</td>\n",
       "      <td>1</td>\n",
       "      <td>0</td>\n",
       "      <td>The first fatal airplane accident in Canada oc...</td>\n",
       "    </tr>\n",
       "    <tr>\n",
       "      <th>4</th>\n",
       "      <td>4</td>\n",
       "      <td>September 09, 1913</td>\n",
       "      <td>1830</td>\n",
       "      <td>Over the North Sea</td>\n",
       "      <td>Military - German Navy</td>\n",
       "      <td>?</td>\n",
       "      <td>?</td>\n",
       "      <td>Zeppelin L-1 (airship)</td>\n",
       "      <td>?</td>\n",
       "      <td>?</td>\n",
       "      <td>20</td>\n",
       "      <td>?</td>\n",
       "      <td>?</td>\n",
       "      <td>14</td>\n",
       "      <td>?</td>\n",
       "      <td>?</td>\n",
       "      <td>0</td>\n",
       "      <td>The airship flew into a thunderstorm and encou...</td>\n",
       "    </tr>\n",
       "  </tbody>\n",
       "</table>\n",
       "</div>"
      ],
      "text/plain": [
       "   Unnamed: 0               fecha HORA declarada  \\\n",
       "0           0  September 17, 1908           1718   \n",
       "1           1  September 07, 1909              ?   \n",
       "2           2       July 12, 1912           0630   \n",
       "3           3     August 06, 1913              ?   \n",
       "4           4  September 09, 1913           1830   \n",
       "\n",
       "                                 Ruta                OperadOR flight_no  \\\n",
       "0                 Fort Myer, Virginia    Military - U.S. Army         ?   \n",
       "1             Juvisy-sur-Orge, France                       ?         ?   \n",
       "2           Atlantic City, New Jersey    Military - U.S. Navy         ?   \n",
       "3  Victoria, British Columbia, Canada                 Private         ?   \n",
       "4                  Over the North Sea  Military - German Navy         ?   \n",
       "\n",
       "           route                 ac_type registration cn_ln all_aboard  \\\n",
       "0  Demonstration        Wright Flyer III            ?     1          2   \n",
       "1       Air show          Wright Byplane          SC1     ?          1   \n",
       "2    Test flight               Dirigible            ?     ?          5   \n",
       "3              ?        Curtiss seaplane            ?     ?          1   \n",
       "4              ?  Zeppelin L-1 (airship)            ?     ?         20   \n",
       "\n",
       "  PASAJEROS A BORDO crew_aboard cantidad de fallecidos passenger_fatalities  \\\n",
       "0                 1           1                      1                    1   \n",
       "1                 0           1                      1                    0   \n",
       "2                 0           5                      5                    0   \n",
       "3                 0           1                      1                    0   \n",
       "4                 ?           ?                     14                    ?   \n",
       "\n",
       "  crew_fatalities ground                                            summary  \n",
       "0               0      0  During a demonstration flight, a U.S. Army fly...  \n",
       "1               0      0  Eugene Lefebvre was the first pilot to ever be...  \n",
       "2               5      0  First U.S. dirigible Akron exploded just offsh...  \n",
       "3               1      0  The first fatal airplane accident in Canada oc...  \n",
       "4               ?      0  The airship flew into a thunderstorm and encou...  "
      ]
     },
     "execution_count": 3,
     "metadata": {},
     "output_type": "execute_result"
    }
   ],
   "source": [
    "#Observamos la información del csv\n",
    "df.head()"
   ]
  },
  {
   "cell_type": "code",
   "execution_count": 4,
   "metadata": {},
   "outputs": [
    {
     "data": {
      "text/plain": [
       "(5008, 18)"
      ]
     },
     "execution_count": 4,
     "metadata": {},
     "output_type": "execute_result"
    }
   ],
   "source": [
    "#Vemos la dimensiones del dataframe \n",
    "df.shape"
   ]
  },
  {
   "cell_type": "markdown",
   "metadata": {},
   "source": [
    "Podemos ver que el dataset en crudo posee 5008 datos y 18 columnas. Procedemos ahora a analizar más en detalle el contenido de cada columna. Para ello, al no contar con un diccionario de datos, procedemos a investigar sobre la información que tenemos. Luego de revisar varias fuentes concluimos que nuestro diccionario de datos se puede resumir como: "
   ]
  },
  {
   "cell_type": "markdown",
   "metadata": {},
   "source": [
    "Diccionario de datos:\n",
    "- **Unnamed: 0:** índice para cada registro de accidente aéreo\n",
    "- **fecha:** fecha en la que ocurrió el accidente aéreo\n",
    "- **HORA declarada:** hora declarada del accidente aéreo\n",
    "- **Ruta:** ubicación geográfica donde ocurrió el accidente aéreo\n",
    "- **OperadOR:** compañía aérea operadora del vuelo\n",
    "- **flight_no:** número de vuelo\n",
    "- **route:** ruta del vuelo, indicando los puntos de partida y destino\n",
    "- **ac_type:** tipo de aeronave involucrada en el accidente\n",
    "- **registration:** número de registro o matrícula de la aeronave\n",
    "- **cn_ln:** número de serie de la aeronave\n",
    "- **all_aboard:** total de personas a bordo (pasajeros y tripulación)\n",
    "- **PASAJEROS A BORDO:** total de pasajeros a bordo\n",
    "- **crew_aboard:** total de tripulación a bordo\n",
    "- **cantidad de fallecidos:** total de personas fallecidas en el accidente (pasajeros y tripulación)\n",
    "- **passenger_fatalities:** total de pasajeros fallecidos en el accidente\n",
    "- **crew_fatalities:** total de tripulantes fallecidos en el accidente\n",
    "- **ground:** total de personas en tierra fallecidas en el accidente\n",
    "- **summary:** tesumen del accidente de vuelo y las circunstancias"
   ]
  },
  {
   "cell_type": "code",
   "execution_count": 5,
   "metadata": {},
   "outputs": [],
   "source": [
    "#Observamos que la información de la columna Unnamed 0, corresponde con el índice y procedemos a eliminarla para que no haya información repetida\n",
    "df=df.drop(columns=['Unnamed: 0'])"
   ]
  },
  {
   "cell_type": "code",
   "execution_count": 6,
   "metadata": {},
   "outputs": [],
   "source": [
    "#Vamos a renombrar las columnas para normalizar los nombres y que estén todos en inglés y representen el contenido de la columna\n",
    "df = df.rename(columns={'fecha': 'date'})\n",
    "df = df.rename(columns={'HORA declarada': 'time'})\n",
    "df = df.rename(columns={'Ruta': 'location'})\n",
    "df = df.rename(columns={'OperadOR': 'airline_operator'})\n",
    "df = df.rename(columns={'OperadOR': 'operator'})\n",
    "df = df.rename(columns={'ac_type': 'aircraft_type'})\n",
    "df = df.rename(columns={'PASAJEROS A BORDO': 'passengers_aboard'})\n",
    "df = df.rename(columns={'cantidad de fallecidos': 'total_fatalities'})"
   ]
  },
  {
   "cell_type": "code",
   "execution_count": 7,
   "metadata": {},
   "outputs": [
    {
     "data": {
      "text/plain": [
       "array(['date', 'time', 'location', 'airline_operator', 'flight_no',\n",
       "       'route', 'aircraft_type', 'registration', 'cn_ln', 'all_aboard',\n",
       "       'passengers_aboard', 'crew_aboard', 'total_fatalities',\n",
       "       'passenger_fatalities', 'crew_fatalities', 'ground', 'summary'],\n",
       "      dtype=object)"
      ]
     },
     "execution_count": 7,
     "metadata": {},
     "output_type": "execute_result"
    }
   ],
   "source": [
    "#Las columnas quedarían \n",
    "df.columns.values"
   ]
  },
  {
   "cell_type": "code",
   "execution_count": 8,
   "metadata": {},
   "outputs": [
    {
     "name": "stdout",
     "output_type": "stream",
     "text": [
      "<class 'pandas.core.frame.DataFrame'>\n",
      "RangeIndex: 5008 entries, 0 to 5007\n",
      "Data columns (total 17 columns):\n",
      " #   Column                Non-Null Count  Dtype \n",
      "---  ------                --------------  ----- \n",
      " 0   date                  5008 non-null   object\n",
      " 1   time                  5008 non-null   object\n",
      " 2   location              5008 non-null   object\n",
      " 3   airline_operator      5008 non-null   object\n",
      " 4   flight_no             5008 non-null   object\n",
      " 5   route                 5007 non-null   object\n",
      " 6   aircraft_type         5008 non-null   object\n",
      " 7   registration          5008 non-null   object\n",
      " 8   cn_ln                 5008 non-null   object\n",
      " 9   all_aboard            5008 non-null   object\n",
      " 10  passengers_aboard     5008 non-null   object\n",
      " 11  crew_aboard           5008 non-null   object\n",
      " 12  total_fatalities      5008 non-null   object\n",
      " 13  passenger_fatalities  5008 non-null   object\n",
      " 14  crew_fatalities       5008 non-null   object\n",
      " 15  ground                5008 non-null   object\n",
      " 16  summary               5008 non-null   object\n",
      "dtypes: object(17)\n",
      "memory usage: 665.3+ KB\n"
     ]
    }
   ],
   "source": [
    "df.info()"
   ]
  },
  {
   "cell_type": "markdown",
   "metadata": {},
   "source": [
    "Según el .info() parecería a simple vista no haber nulos. Sin embargo, analizando en detalle la información del dataframe, observamos que hay muchos valores donde en vez de un vacío o nulo, se presenta un signo de pregunta '?'. Por lo tanto, procedemos a reemplazar los valores '?' por un Nan, para poder ver los verdaderos nulos."
   ]
  },
  {
   "cell_type": "code",
   "execution_count": 9,
   "metadata": {},
   "outputs": [],
   "source": [
    "#Reemplazamos los '?' por Nan\n",
    "df=df.replace('?', np.nan)\n"
   ]
  },
  {
   "cell_type": "code",
   "execution_count": 10,
   "metadata": {},
   "outputs": [
    {
     "data": {
      "text/html": [
       "<div>\n",
       "<style scoped>\n",
       "    .dataframe tbody tr th:only-of-type {\n",
       "        vertical-align: middle;\n",
       "    }\n",
       "\n",
       "    .dataframe tbody tr th {\n",
       "        vertical-align: top;\n",
       "    }\n",
       "\n",
       "    .dataframe thead th {\n",
       "        text-align: right;\n",
       "    }\n",
       "</style>\n",
       "<table border=\"1\" class=\"dataframe\">\n",
       "  <thead>\n",
       "    <tr style=\"text-align: right;\">\n",
       "      <th></th>\n",
       "      <th>date</th>\n",
       "      <th>time</th>\n",
       "      <th>location</th>\n",
       "      <th>airline_operator</th>\n",
       "      <th>flight_no</th>\n",
       "      <th>route</th>\n",
       "      <th>aircraft_type</th>\n",
       "      <th>registration</th>\n",
       "      <th>cn_ln</th>\n",
       "      <th>all_aboard</th>\n",
       "      <th>passengers_aboard</th>\n",
       "      <th>crew_aboard</th>\n",
       "      <th>total_fatalities</th>\n",
       "      <th>passenger_fatalities</th>\n",
       "      <th>crew_fatalities</th>\n",
       "      <th>ground</th>\n",
       "      <th>summary</th>\n",
       "    </tr>\n",
       "  </thead>\n",
       "  <tbody>\n",
       "    <tr>\n",
       "      <th>0</th>\n",
       "      <td>September 17, 1908</td>\n",
       "      <td>1718</td>\n",
       "      <td>Fort Myer, Virginia</td>\n",
       "      <td>Military - U.S. Army</td>\n",
       "      <td>NaN</td>\n",
       "      <td>Demonstration</td>\n",
       "      <td>Wright Flyer III</td>\n",
       "      <td>NaN</td>\n",
       "      <td>1</td>\n",
       "      <td>2</td>\n",
       "      <td>1</td>\n",
       "      <td>1</td>\n",
       "      <td>1</td>\n",
       "      <td>1</td>\n",
       "      <td>0</td>\n",
       "      <td>0</td>\n",
       "      <td>During a demonstration flight, a U.S. Army fly...</td>\n",
       "    </tr>\n",
       "    <tr>\n",
       "      <th>1</th>\n",
       "      <td>September 07, 1909</td>\n",
       "      <td>NaN</td>\n",
       "      <td>Juvisy-sur-Orge, France</td>\n",
       "      <td>NaN</td>\n",
       "      <td>NaN</td>\n",
       "      <td>Air show</td>\n",
       "      <td>Wright Byplane</td>\n",
       "      <td>SC1</td>\n",
       "      <td>NaN</td>\n",
       "      <td>1</td>\n",
       "      <td>0</td>\n",
       "      <td>1</td>\n",
       "      <td>1</td>\n",
       "      <td>0</td>\n",
       "      <td>0</td>\n",
       "      <td>0</td>\n",
       "      <td>Eugene Lefebvre was the first pilot to ever be...</td>\n",
       "    </tr>\n",
       "    <tr>\n",
       "      <th>2</th>\n",
       "      <td>July 12, 1912</td>\n",
       "      <td>0630</td>\n",
       "      <td>Atlantic City, New Jersey</td>\n",
       "      <td>Military - U.S. Navy</td>\n",
       "      <td>NaN</td>\n",
       "      <td>Test flight</td>\n",
       "      <td>Dirigible</td>\n",
       "      <td>NaN</td>\n",
       "      <td>NaN</td>\n",
       "      <td>5</td>\n",
       "      <td>0</td>\n",
       "      <td>5</td>\n",
       "      <td>5</td>\n",
       "      <td>0</td>\n",
       "      <td>5</td>\n",
       "      <td>0</td>\n",
       "      <td>First U.S. dirigible Akron exploded just offsh...</td>\n",
       "    </tr>\n",
       "    <tr>\n",
       "      <th>3</th>\n",
       "      <td>August 06, 1913</td>\n",
       "      <td>NaN</td>\n",
       "      <td>Victoria, British Columbia, Canada</td>\n",
       "      <td>Private</td>\n",
       "      <td>NaN</td>\n",
       "      <td>NaN</td>\n",
       "      <td>Curtiss seaplane</td>\n",
       "      <td>NaN</td>\n",
       "      <td>NaN</td>\n",
       "      <td>1</td>\n",
       "      <td>0</td>\n",
       "      <td>1</td>\n",
       "      <td>1</td>\n",
       "      <td>0</td>\n",
       "      <td>1</td>\n",
       "      <td>0</td>\n",
       "      <td>The first fatal airplane accident in Canada oc...</td>\n",
       "    </tr>\n",
       "    <tr>\n",
       "      <th>4</th>\n",
       "      <td>September 09, 1913</td>\n",
       "      <td>1830</td>\n",
       "      <td>Over the North Sea</td>\n",
       "      <td>Military - German Navy</td>\n",
       "      <td>NaN</td>\n",
       "      <td>NaN</td>\n",
       "      <td>Zeppelin L-1 (airship)</td>\n",
       "      <td>NaN</td>\n",
       "      <td>NaN</td>\n",
       "      <td>20</td>\n",
       "      <td>NaN</td>\n",
       "      <td>NaN</td>\n",
       "      <td>14</td>\n",
       "      <td>NaN</td>\n",
       "      <td>NaN</td>\n",
       "      <td>0</td>\n",
       "      <td>The airship flew into a thunderstorm and encou...</td>\n",
       "    </tr>\n",
       "  </tbody>\n",
       "</table>\n",
       "</div>"
      ],
      "text/plain": [
       "                 date  time                            location  \\\n",
       "0  September 17, 1908  1718                 Fort Myer, Virginia   \n",
       "1  September 07, 1909   NaN             Juvisy-sur-Orge, France   \n",
       "2       July 12, 1912  0630           Atlantic City, New Jersey   \n",
       "3     August 06, 1913   NaN  Victoria, British Columbia, Canada   \n",
       "4  September 09, 1913  1830                  Over the North Sea   \n",
       "\n",
       "         airline_operator flight_no          route           aircraft_type  \\\n",
       "0    Military - U.S. Army       NaN  Demonstration        Wright Flyer III   \n",
       "1                     NaN       NaN       Air show          Wright Byplane   \n",
       "2    Military - U.S. Navy       NaN    Test flight               Dirigible   \n",
       "3                 Private       NaN            NaN        Curtiss seaplane   \n",
       "4  Military - German Navy       NaN            NaN  Zeppelin L-1 (airship)   \n",
       "\n",
       "  registration cn_ln all_aboard passengers_aboard crew_aboard  \\\n",
       "0          NaN     1          2                 1           1   \n",
       "1          SC1   NaN          1                 0           1   \n",
       "2          NaN   NaN          5                 0           5   \n",
       "3          NaN   NaN          1                 0           1   \n",
       "4          NaN   NaN         20               NaN         NaN   \n",
       "\n",
       "  total_fatalities passenger_fatalities crew_fatalities ground  \\\n",
       "0                1                    1               0      0   \n",
       "1                1                    0               0      0   \n",
       "2                5                    0               5      0   \n",
       "3                1                    0               1      0   \n",
       "4               14                  NaN             NaN      0   \n",
       "\n",
       "                                             summary  \n",
       "0  During a demonstration flight, a U.S. Army fly...  \n",
       "1  Eugene Lefebvre was the first pilot to ever be...  \n",
       "2  First U.S. dirigible Akron exploded just offsh...  \n",
       "3  The first fatal airplane accident in Canada oc...  \n",
       "4  The airship flew into a thunderstorm and encou...  "
      ]
     },
     "execution_count": 10,
     "metadata": {},
     "output_type": "execute_result"
    }
   ],
   "source": [
    "#Revisamos que se haya realizado correctamente la modificación\n",
    "df.head()"
   ]
  },
  {
   "cell_type": "code",
   "execution_count": 11,
   "metadata": {},
   "outputs": [
    {
     "data": {
      "text/plain": [
       "date                       0\n",
       "time                    1504\n",
       "location                   5\n",
       "airline_operator          10\n",
       "flight_no               3682\n",
       "route                    763\n",
       "aircraft_type             13\n",
       "registration             272\n",
       "cn_ln                    667\n",
       "all_aboard                17\n",
       "passengers_aboard        221\n",
       "crew_aboard              219\n",
       "total_fatalities           8\n",
       "passenger_fatalities     235\n",
       "crew_fatalities          235\n",
       "ground                    44\n",
       "summary                   59\n",
       "dtype: int64"
      ]
     },
     "execution_count": 11,
     "metadata": {},
     "output_type": "execute_result"
    }
   ],
   "source": [
    "#Vamos a ver los nulos\n",
    "df.isnull().sum()"
   ]
  },
  {
   "cell_type": "markdown",
   "metadata": {},
   "source": [
    "Solo tenemos el 27% de los datos del número de vuelo (flight_no). Por lo tanto, procedemos a eliminar esta columna"
   ]
  },
  {
   "cell_type": "code",
   "execution_count": 12,
   "metadata": {},
   "outputs": [],
   "source": [
    "df=df.drop(columns=['flight_no'])"
   ]
  },
  {
   "cell_type": "code",
   "execution_count": 13,
   "metadata": {},
   "outputs": [
    {
     "data": {
      "text/html": [
       "<div>\n",
       "<style scoped>\n",
       "    .dataframe tbody tr th:only-of-type {\n",
       "        vertical-align: middle;\n",
       "    }\n",
       "\n",
       "    .dataframe tbody tr th {\n",
       "        vertical-align: top;\n",
       "    }\n",
       "\n",
       "    .dataframe thead th {\n",
       "        text-align: right;\n",
       "    }\n",
       "</style>\n",
       "<table border=\"1\" class=\"dataframe\">\n",
       "  <thead>\n",
       "    <tr style=\"text-align: right;\">\n",
       "      <th></th>\n",
       "      <th>date</th>\n",
       "      <th>time</th>\n",
       "      <th>location</th>\n",
       "      <th>airline_operator</th>\n",
       "      <th>route</th>\n",
       "      <th>aircraft_type</th>\n",
       "      <th>registration</th>\n",
       "      <th>cn_ln</th>\n",
       "      <th>all_aboard</th>\n",
       "      <th>passengers_aboard</th>\n",
       "      <th>crew_aboard</th>\n",
       "      <th>total_fatalities</th>\n",
       "      <th>passenger_fatalities</th>\n",
       "      <th>crew_fatalities</th>\n",
       "      <th>ground</th>\n",
       "      <th>summary</th>\n",
       "    </tr>\n",
       "  </thead>\n",
       "  <tbody>\n",
       "    <tr>\n",
       "      <th>0</th>\n",
       "      <td>September 17, 1908</td>\n",
       "      <td>1718</td>\n",
       "      <td>Fort Myer, Virginia</td>\n",
       "      <td>Military - U.S. Army</td>\n",
       "      <td>Demonstration</td>\n",
       "      <td>Wright Flyer III</td>\n",
       "      <td>NaN</td>\n",
       "      <td>1</td>\n",
       "      <td>2</td>\n",
       "      <td>1</td>\n",
       "      <td>1</td>\n",
       "      <td>1</td>\n",
       "      <td>1</td>\n",
       "      <td>0</td>\n",
       "      <td>0</td>\n",
       "      <td>During a demonstration flight, a U.S. Army fly...</td>\n",
       "    </tr>\n",
       "    <tr>\n",
       "      <th>1</th>\n",
       "      <td>September 07, 1909</td>\n",
       "      <td>NaN</td>\n",
       "      <td>Juvisy-sur-Orge, France</td>\n",
       "      <td>NaN</td>\n",
       "      <td>Air show</td>\n",
       "      <td>Wright Byplane</td>\n",
       "      <td>SC1</td>\n",
       "      <td>NaN</td>\n",
       "      <td>1</td>\n",
       "      <td>0</td>\n",
       "      <td>1</td>\n",
       "      <td>1</td>\n",
       "      <td>0</td>\n",
       "      <td>0</td>\n",
       "      <td>0</td>\n",
       "      <td>Eugene Lefebvre was the first pilot to ever be...</td>\n",
       "    </tr>\n",
       "    <tr>\n",
       "      <th>2</th>\n",
       "      <td>July 12, 1912</td>\n",
       "      <td>0630</td>\n",
       "      <td>Atlantic City, New Jersey</td>\n",
       "      <td>Military - U.S. Navy</td>\n",
       "      <td>Test flight</td>\n",
       "      <td>Dirigible</td>\n",
       "      <td>NaN</td>\n",
       "      <td>NaN</td>\n",
       "      <td>5</td>\n",
       "      <td>0</td>\n",
       "      <td>5</td>\n",
       "      <td>5</td>\n",
       "      <td>0</td>\n",
       "      <td>5</td>\n",
       "      <td>0</td>\n",
       "      <td>First U.S. dirigible Akron exploded just offsh...</td>\n",
       "    </tr>\n",
       "    <tr>\n",
       "      <th>3</th>\n",
       "      <td>August 06, 1913</td>\n",
       "      <td>NaN</td>\n",
       "      <td>Victoria, British Columbia, Canada</td>\n",
       "      <td>Private</td>\n",
       "      <td>NaN</td>\n",
       "      <td>Curtiss seaplane</td>\n",
       "      <td>NaN</td>\n",
       "      <td>NaN</td>\n",
       "      <td>1</td>\n",
       "      <td>0</td>\n",
       "      <td>1</td>\n",
       "      <td>1</td>\n",
       "      <td>0</td>\n",
       "      <td>1</td>\n",
       "      <td>0</td>\n",
       "      <td>The first fatal airplane accident in Canada oc...</td>\n",
       "    </tr>\n",
       "    <tr>\n",
       "      <th>4</th>\n",
       "      <td>September 09, 1913</td>\n",
       "      <td>1830</td>\n",
       "      <td>Over the North Sea</td>\n",
       "      <td>Military - German Navy</td>\n",
       "      <td>NaN</td>\n",
       "      <td>Zeppelin L-1 (airship)</td>\n",
       "      <td>NaN</td>\n",
       "      <td>NaN</td>\n",
       "      <td>20</td>\n",
       "      <td>NaN</td>\n",
       "      <td>NaN</td>\n",
       "      <td>14</td>\n",
       "      <td>NaN</td>\n",
       "      <td>NaN</td>\n",
       "      <td>0</td>\n",
       "      <td>The airship flew into a thunderstorm and encou...</td>\n",
       "    </tr>\n",
       "  </tbody>\n",
       "</table>\n",
       "</div>"
      ],
      "text/plain": [
       "                 date  time                            location  \\\n",
       "0  September 17, 1908  1718                 Fort Myer, Virginia   \n",
       "1  September 07, 1909   NaN             Juvisy-sur-Orge, France   \n",
       "2       July 12, 1912  0630           Atlantic City, New Jersey   \n",
       "3     August 06, 1913   NaN  Victoria, British Columbia, Canada   \n",
       "4  September 09, 1913  1830                  Over the North Sea   \n",
       "\n",
       "         airline_operator          route           aircraft_type registration  \\\n",
       "0    Military - U.S. Army  Demonstration        Wright Flyer III          NaN   \n",
       "1                     NaN       Air show          Wright Byplane          SC1   \n",
       "2    Military - U.S. Navy    Test flight               Dirigible          NaN   \n",
       "3                 Private            NaN        Curtiss seaplane          NaN   \n",
       "4  Military - German Navy            NaN  Zeppelin L-1 (airship)          NaN   \n",
       "\n",
       "  cn_ln all_aboard passengers_aboard crew_aboard total_fatalities  \\\n",
       "0     1          2                 1           1                1   \n",
       "1   NaN          1                 0           1                1   \n",
       "2   NaN          5                 0           5                5   \n",
       "3   NaN          1                 0           1                1   \n",
       "4   NaN         20               NaN         NaN               14   \n",
       "\n",
       "  passenger_fatalities crew_fatalities ground  \\\n",
       "0                    1               0      0   \n",
       "1                    0               0      0   \n",
       "2                    0               5      0   \n",
       "3                    0               1      0   \n",
       "4                  NaN             NaN      0   \n",
       "\n",
       "                                             summary  \n",
       "0  During a demonstration flight, a U.S. Army fly...  \n",
       "1  Eugene Lefebvre was the first pilot to ever be...  \n",
       "2  First U.S. dirigible Akron exploded just offsh...  \n",
       "3  The first fatal airplane accident in Canada oc...  \n",
       "4  The airship flew into a thunderstorm and encou...  "
      ]
     },
     "execution_count": 13,
     "metadata": {},
     "output_type": "execute_result"
    }
   ],
   "source": [
    "df.head()"
   ]
  },
  {
   "cell_type": "markdown",
   "metadata": {},
   "source": [
    "Veremos en esta instancia si tenemos valores duplicados"
   ]
  },
  {
   "cell_type": "code",
   "execution_count": 14,
   "metadata": {},
   "outputs": [
    {
     "data": {
      "text/html": [
       "<div>\n",
       "<style scoped>\n",
       "    .dataframe tbody tr th:only-of-type {\n",
       "        vertical-align: middle;\n",
       "    }\n",
       "\n",
       "    .dataframe tbody tr th {\n",
       "        vertical-align: top;\n",
       "    }\n",
       "\n",
       "    .dataframe thead th {\n",
       "        text-align: right;\n",
       "    }\n",
       "</style>\n",
       "<table border=\"1\" class=\"dataframe\">\n",
       "  <thead>\n",
       "    <tr style=\"text-align: right;\">\n",
       "      <th></th>\n",
       "      <th>date</th>\n",
       "      <th>time</th>\n",
       "      <th>location</th>\n",
       "      <th>airline_operator</th>\n",
       "      <th>route</th>\n",
       "      <th>aircraft_type</th>\n",
       "      <th>registration</th>\n",
       "      <th>cn_ln</th>\n",
       "      <th>all_aboard</th>\n",
       "      <th>passengers_aboard</th>\n",
       "      <th>crew_aboard</th>\n",
       "      <th>total_fatalities</th>\n",
       "      <th>passenger_fatalities</th>\n",
       "      <th>crew_fatalities</th>\n",
       "      <th>ground</th>\n",
       "      <th>summary</th>\n",
       "    </tr>\n",
       "  </thead>\n",
       "  <tbody>\n",
       "  </tbody>\n",
       "</table>\n",
       "</div>"
      ],
      "text/plain": [
       "Empty DataFrame\n",
       "Columns: [date, time, location, airline_operator, route, aircraft_type, registration, cn_ln, all_aboard, passengers_aboard, crew_aboard, total_fatalities, passenger_fatalities, crew_fatalities, ground, summary]\n",
       "Index: []"
      ]
     },
     "execution_count": 14,
     "metadata": {},
     "output_type": "execute_result"
    }
   ],
   "source": [
    "#Verificamos si hay duplicados\n",
    "duplicados = df[df.duplicated()] \n",
    "duplicados"
   ]
  },
  {
   "cell_type": "markdown",
   "metadata": {},
   "source": [
    "Podemos ver que no tenemos valores duplicados"
   ]
  },
  {
   "cell_type": "code",
   "execution_count": 15,
   "metadata": {},
   "outputs": [
    {
     "name": "stdout",
     "output_type": "stream",
     "text": [
      "<class 'pandas.core.frame.DataFrame'>\n",
      "RangeIndex: 5008 entries, 0 to 5007\n",
      "Data columns (total 16 columns):\n",
      " #   Column                Non-Null Count  Dtype \n",
      "---  ------                --------------  ----- \n",
      " 0   date                  5008 non-null   object\n",
      " 1   time                  3504 non-null   object\n",
      " 2   location              5003 non-null   object\n",
      " 3   airline_operator      4998 non-null   object\n",
      " 4   route                 4245 non-null   object\n",
      " 5   aircraft_type         4995 non-null   object\n",
      " 6   registration          4736 non-null   object\n",
      " 7   cn_ln                 4341 non-null   object\n",
      " 8   all_aboard            4991 non-null   object\n",
      " 9   passengers_aboard     4787 non-null   object\n",
      " 10  crew_aboard           4789 non-null   object\n",
      " 11  total_fatalities      5000 non-null   object\n",
      " 12  passenger_fatalities  4773 non-null   object\n",
      " 13  crew_fatalities       4773 non-null   object\n",
      " 14  ground                4964 non-null   object\n",
      " 15  summary               4949 non-null   object\n",
      "dtypes: object(16)\n",
      "memory usage: 626.1+ KB\n"
     ]
    }
   ],
   "source": [
    "#Revisamos los tipos de datos para comenzar con las transformaciones\n",
    "df.info()"
   ]
  },
  {
   "cell_type": "markdown",
   "metadata": {},
   "source": [
    "## 2) Transformaciones"
   ]
  },
  {
   "cell_type": "markdown",
   "metadata": {},
   "source": [
    "### 2.1) Date"
   ]
  },
  {
   "cell_type": "code",
   "execution_count": 16,
   "metadata": {},
   "outputs": [],
   "source": [
    "from datetime import datetime\n",
    "def convertir_fecha(fecha):\n",
    "    fecha_objeto = datetime.strptime(fecha, '%B %d, %Y')\n",
    "    return fecha_objeto"
   ]
  },
  {
   "cell_type": "code",
   "execution_count": 17,
   "metadata": {},
   "outputs": [],
   "source": [
    "# Aplicamos la conversión a la columna 'date'\n",
    "df['date'] = df['date'].apply(convertir_fecha)"
   ]
  },
  {
   "cell_type": "code",
   "execution_count": 18,
   "metadata": {},
   "outputs": [
    {
     "data": {
      "text/plain": [
       "0      1908-09-17\n",
       "1      1909-09-07\n",
       "2      1912-07-12\n",
       "3      1913-08-06\n",
       "4      1913-09-09\n",
       "          ...    \n",
       "5003   2021-03-28\n",
       "5004   2021-05-21\n",
       "5005   2021-06-10\n",
       "5006   2021-07-04\n",
       "5007   2021-07-06\n",
       "Name: date, Length: 5008, dtype: datetime64[ns]"
      ]
     },
     "execution_count": 18,
     "metadata": {},
     "output_type": "execute_result"
    }
   ],
   "source": [
    "df['date']"
   ]
  },
  {
   "cell_type": "markdown",
   "metadata": {},
   "source": [
    "Podemos observar que no hay valores nulos en la columna date, por lo tanto, no será necesario reemplazar los nulos por ('')."
   ]
  },
  {
   "cell_type": "code",
   "execution_count": 19,
   "metadata": {},
   "outputs": [
    {
     "name": "stdout",
     "output_type": "stream",
     "text": [
      "<class 'pandas.core.series.Series'>\n",
      "RangeIndex: 5008 entries, 0 to 5007\n",
      "Series name: date\n",
      "Non-Null Count  Dtype         \n",
      "--------------  -----         \n",
      "5008 non-null   datetime64[ns]\n",
      "dtypes: datetime64[ns](1)\n",
      "memory usage: 39.3 KB\n"
     ]
    }
   ],
   "source": [
    "#Verificamos que el tipo de dato sea datetime\n",
    "df['date'].info()"
   ]
  },
  {
   "cell_type": "markdown",
   "metadata": {},
   "source": [
    "Vamos a crear la columna year, que nos permitirá facilitar el análisis de los accidentes por año, década o cualquier otra medida de tiempo."
   ]
  },
  {
   "cell_type": "code",
   "execution_count": 20,
   "metadata": {},
   "outputs": [],
   "source": [
    "df['year'] = df['date'].dt.year"
   ]
  },
  {
   "cell_type": "markdown",
   "metadata": {},
   "source": [
    "### 2.2) Hora"
   ]
  },
  {
   "cell_type": "code",
   "execution_count": 21,
   "metadata": {},
   "outputs": [
    {
     "data": {
      "text/plain": [
       "0        1718\n",
       "1         NaN\n",
       "2        0630\n",
       "3         NaN\n",
       "4        1830\n",
       "        ...  \n",
       "5003     1835\n",
       "5004     1800\n",
       "5005     0800\n",
       "5006    11:30\n",
       "5007     1500\n",
       "Name: time, Length: 5008, dtype: object"
      ]
     },
     "execution_count": 21,
     "metadata": {},
     "output_type": "execute_result"
    }
   ],
   "source": [
    "#Observamos cómo están los datos en la columna time\n",
    "df['time']"
   ]
  },
  {
   "cell_type": "code",
   "execution_count": 22,
   "metadata": {},
   "outputs": [],
   "source": [
    "# Agregamos ':' entre los números en la columna 'time'\n",
    "df['time'] = df['time'].str.replace(r'(\\d{2})(\\d{2})', r'\\1:\\2', regex=True)"
   ]
  },
  {
   "cell_type": "code",
   "execution_count": 23,
   "metadata": {},
   "outputs": [
    {
     "data": {
      "text/plain": [
       "0    17:18\n",
       "1      NaN\n",
       "2    06:30\n",
       "3      NaN\n",
       "4    18:30\n",
       "Name: time, dtype: object"
      ]
     },
     "execution_count": 23,
     "metadata": {},
     "output_type": "execute_result"
    }
   ],
   "source": [
    "#Verificamos el agregado de los ':' en la columna tiempo\n",
    "df['time'].head()"
   ]
  },
  {
   "cell_type": "code",
   "execution_count": 24,
   "metadata": {},
   "outputs": [
    {
     "data": {
      "text/plain": [
       "1504"
      ]
     },
     "execution_count": 24,
     "metadata": {},
     "output_type": "execute_result"
    }
   ],
   "source": [
    "#Verificamos el numero de valores nulos\n",
    "df['time'].isnull().sum()"
   ]
  },
  {
   "cell_type": "code",
   "execution_count": 25,
   "metadata": {},
   "outputs": [],
   "source": [
    "# Reemplazamos los valores nulos por un valor vacío\n",
    "df['time'] = df['time'].fillna('')"
   ]
  },
  {
   "cell_type": "code",
   "execution_count": 26,
   "metadata": {},
   "outputs": [
    {
     "name": "stdout",
     "output_type": "stream",
     "text": [
      "<class 'pandas.core.series.Series'>\n",
      "RangeIndex: 5008 entries, 0 to 5007\n",
      "Series name: time\n",
      "Non-Null Count  Dtype \n",
      "--------------  ----- \n",
      "5008 non-null   object\n",
      "dtypes: object(1)\n",
      "memory usage: 39.3+ KB\n"
     ]
    }
   ],
   "source": [
    "#Verificamos el tipo de dato actual\n",
    "df['time'].info()"
   ]
  },
  {
   "cell_type": "code",
   "execution_count": 27,
   "metadata": {},
   "outputs": [],
   "source": [
    "#Cambiamos el tipo de dato \n",
    "df['time'] = pd.to_datetime(df['time'], format='%H:%M', errors='coerce').dt.time"
   ]
  },
  {
   "cell_type": "code",
   "execution_count": 28,
   "metadata": {},
   "outputs": [
    {
     "data": {
      "text/plain": [
       "0    17:18:00\n",
       "1         NaT\n",
       "2    06:30:00\n",
       "3         NaT\n",
       "4    18:30:00\n",
       "Name: time, dtype: object"
      ]
     },
     "execution_count": 28,
     "metadata": {},
     "output_type": "execute_result"
    }
   ],
   "source": [
    "#Revisamos el cambio a datetime con formato de hora\n",
    "df['time'].head()"
   ]
  },
  {
   "cell_type": "code",
   "execution_count": 29,
   "metadata": {},
   "outputs": [],
   "source": [
    "#Vemos los nulos NaT y volvemos a rellenar con vacíos\n",
    "df['time'] = df['time'].fillna('')"
   ]
  },
  {
   "cell_type": "code",
   "execution_count": 30,
   "metadata": {},
   "outputs": [
    {
     "data": {
      "text/plain": [
       "0    17:18:00\n",
       "1            \n",
       "2    06:30:00\n",
       "3            \n",
       "4    18:30:00\n",
       "Name: time, dtype: object"
      ]
     },
     "execution_count": 30,
     "metadata": {},
     "output_type": "execute_result"
    }
   ],
   "source": [
    "#Constatamos el cambio\n",
    "df['time'].head()"
   ]
  },
  {
   "cell_type": "markdown",
   "metadata": {},
   "source": [
    "### 2.3) Date_time"
   ]
  },
  {
   "cell_type": "code",
   "execution_count": 31,
   "metadata": {},
   "outputs": [],
   "source": [
    "# Concatenar las columnas 'date' y 'time' en una columna 'date_time' de tipo datetime\n",
    "df['date_time'] = pd.to_datetime(df['date'].astype(str) + ' ' + df['time'].astype(str), format='%Y-%m-%d %H:%M:%S', errors='coerce')"
   ]
  },
  {
   "cell_type": "code",
   "execution_count": 32,
   "metadata": {},
   "outputs": [],
   "source": [
    "# Convertir la columna 'date' a tipo de datos datetime\n",
    "df['date'] = pd.to_datetime(df['date'])"
   ]
  },
  {
   "cell_type": "code",
   "execution_count": 33,
   "metadata": {},
   "outputs": [],
   "source": [
    "#Llenamos con los Nan con vacíos\n",
    "df['date_time'] = df['date_time'].fillna('')\n"
   ]
  },
  {
   "cell_type": "code",
   "execution_count": 34,
   "metadata": {},
   "outputs": [
    {
     "data": {
      "text/plain": [
       "0   1908-09-17 17:18:00\n",
       "1                   NaT\n",
       "2   1912-07-12 06:30:00\n",
       "3                   NaT\n",
       "4   1913-09-09 18:30:00\n",
       "Name: date_time, dtype: datetime64[ns]"
      ]
     },
     "execution_count": 34,
     "metadata": {},
     "output_type": "execute_result"
    }
   ],
   "source": [
    "#Revisamos el cambio\n",
    "df['date_time'].head()"
   ]
  },
  {
   "cell_type": "markdown",
   "metadata": {},
   "source": [
    "### 2.4) Location\n"
   ]
  },
  {
   "cell_type": "code",
   "execution_count": 35,
   "metadata": {},
   "outputs": [
    {
     "data": {
      "text/plain": [
       "5"
      ]
     },
     "execution_count": 35,
     "metadata": {},
     "output_type": "execute_result"
    }
   ],
   "source": [
    "df['location'].isnull().sum()"
   ]
  },
  {
   "cell_type": "code",
   "execution_count": 36,
   "metadata": {},
   "outputs": [
    {
     "data": {
      "text/html": [
       "<div>\n",
       "<style scoped>\n",
       "    .dataframe tbody tr th:only-of-type {\n",
       "        vertical-align: middle;\n",
       "    }\n",
       "\n",
       "    .dataframe tbody tr th {\n",
       "        vertical-align: top;\n",
       "    }\n",
       "\n",
       "    .dataframe thead th {\n",
       "        text-align: right;\n",
       "    }\n",
       "</style>\n",
       "<table border=\"1\" class=\"dataframe\">\n",
       "  <thead>\n",
       "    <tr style=\"text-align: right;\">\n",
       "      <th></th>\n",
       "      <th>date</th>\n",
       "      <th>time</th>\n",
       "      <th>location</th>\n",
       "      <th>airline_operator</th>\n",
       "      <th>route</th>\n",
       "      <th>aircraft_type</th>\n",
       "      <th>registration</th>\n",
       "      <th>cn_ln</th>\n",
       "      <th>all_aboard</th>\n",
       "      <th>passengers_aboard</th>\n",
       "      <th>crew_aboard</th>\n",
       "      <th>total_fatalities</th>\n",
       "      <th>passenger_fatalities</th>\n",
       "      <th>crew_fatalities</th>\n",
       "      <th>ground</th>\n",
       "      <th>summary</th>\n",
       "      <th>year</th>\n",
       "      <th>date_time</th>\n",
       "    </tr>\n",
       "  </thead>\n",
       "  <tbody>\n",
       "    <tr>\n",
       "      <th>360</th>\n",
       "      <td>1934-12-31</td>\n",
       "      <td></td>\n",
       "      <td>NaN</td>\n",
       "      <td>Aeroflot</td>\n",
       "      <td>NaN</td>\n",
       "      <td>Tupolev ANT-9</td>\n",
       "      <td>NaN</td>\n",
       "      <td>NaN</td>\n",
       "      <td>10</td>\n",
       "      <td>8</td>\n",
       "      <td>2</td>\n",
       "      <td>10</td>\n",
       "      <td>8</td>\n",
       "      <td>2</td>\n",
       "      <td>0</td>\n",
       "      <td>Crashed under unknown circumstances.</td>\n",
       "      <td>1934</td>\n",
       "      <td>NaT</td>\n",
       "    </tr>\n",
       "    <tr>\n",
       "      <th>465</th>\n",
       "      <td>1937-06-20</td>\n",
       "      <td></td>\n",
       "      <td>NaN</td>\n",
       "      <td>ENTA</td>\n",
       "      <td>San José  San Isidro de El General</td>\n",
       "      <td>Travel Air 6000</td>\n",
       "      <td>TI-3</td>\n",
       "      <td>NaN</td>\n",
       "      <td>6</td>\n",
       "      <td>5</td>\n",
       "      <td>1</td>\n",
       "      <td>6</td>\n",
       "      <td>5</td>\n",
       "      <td>1</td>\n",
       "      <td>NaN</td>\n",
       "      <td>Hit trees and crashed in an isolated area loca...</td>\n",
       "      <td>1937</td>\n",
       "      <td>NaT</td>\n",
       "    </tr>\n",
       "    <tr>\n",
       "      <th>646</th>\n",
       "      <td>1942-08-21</td>\n",
       "      <td></td>\n",
       "      <td>NaN</td>\n",
       "      <td>Deutsche Lufthansa</td>\n",
       "      <td>NaN</td>\n",
       "      <td>Siebel Si-204</td>\n",
       "      <td>NaN</td>\n",
       "      <td>NaN</td>\n",
       "      <td>4</td>\n",
       "      <td>2</td>\n",
       "      <td>2</td>\n",
       "      <td>4</td>\n",
       "      <td>2</td>\n",
       "      <td>2</td>\n",
       "      <td>0</td>\n",
       "      <td>Lufthansa chairman, Von Gablenz killed.</td>\n",
       "      <td>1942</td>\n",
       "      <td>NaT</td>\n",
       "    </tr>\n",
       "    <tr>\n",
       "      <th>999</th>\n",
       "      <td>1947-11-27</td>\n",
       "      <td></td>\n",
       "      <td>NaN</td>\n",
       "      <td>China National Aviation Corporation</td>\n",
       "      <td>NaN</td>\n",
       "      <td>Douglas DC-3</td>\n",
       "      <td>NaN</td>\n",
       "      <td>NaN</td>\n",
       "      <td>3</td>\n",
       "      <td>0</td>\n",
       "      <td>3</td>\n",
       "      <td>2</td>\n",
       "      <td>0</td>\n",
       "      <td>2</td>\n",
       "      <td>0</td>\n",
       "      <td>The cargo plane was shot down by communist ant...</td>\n",
       "      <td>1947</td>\n",
       "      <td>NaT</td>\n",
       "    </tr>\n",
       "    <tr>\n",
       "      <th>2895</th>\n",
       "      <td>1977-01-20</td>\n",
       "      <td></td>\n",
       "      <td>NaN</td>\n",
       "      <td>North Canada Air</td>\n",
       "      <td>NaN</td>\n",
       "      <td>Bristol 170 Freighter 31M</td>\n",
       "      <td>C-FWAD</td>\n",
       "      <td>13253</td>\n",
       "      <td>2</td>\n",
       "      <td>0</td>\n",
       "      <td>2</td>\n",
       "      <td>1</td>\n",
       "      <td>0</td>\n",
       "      <td>1</td>\n",
       "      <td>0</td>\n",
       "      <td>The cargo plane stalled nearly vertical and cr...</td>\n",
       "      <td>1977</td>\n",
       "      <td>NaT</td>\n",
       "    </tr>\n",
       "  </tbody>\n",
       "</table>\n",
       "</div>"
      ],
      "text/plain": [
       "           date time location                     airline_operator  \\\n",
       "360  1934-12-31           NaN                             Aeroflot   \n",
       "465  1937-06-20           NaN                                 ENTA   \n",
       "646  1942-08-21           NaN                   Deutsche Lufthansa   \n",
       "999  1947-11-27           NaN  China National Aviation Corporation   \n",
       "2895 1977-01-20           NaN                     North Canada Air   \n",
       "\n",
       "                                   route              aircraft_type  \\\n",
       "360                                  NaN              Tupolev ANT-9   \n",
       "465   San José  San Isidro de El General            Travel Air 6000   \n",
       "646                                  NaN              Siebel Si-204   \n",
       "999                                  NaN               Douglas DC-3   \n",
       "2895                                 NaN  Bristol 170 Freighter 31M   \n",
       "\n",
       "     registration  cn_ln all_aboard passengers_aboard crew_aboard  \\\n",
       "360           NaN    NaN         10                 8           2   \n",
       "465          TI-3    NaN          6                 5           1   \n",
       "646           NaN    NaN          4                 2           2   \n",
       "999           NaN    NaN          3                 0           3   \n",
       "2895       C-FWAD  13253          2                 0           2   \n",
       "\n",
       "     total_fatalities passenger_fatalities crew_fatalities ground  \\\n",
       "360                10                    8               2      0   \n",
       "465                 6                    5               1    NaN   \n",
       "646                 4                    2               2      0   \n",
       "999                 2                    0               2      0   \n",
       "2895                1                    0               1      0   \n",
       "\n",
       "                                                summary  year date_time  \n",
       "360                Crashed under unknown circumstances.  1934       NaT  \n",
       "465   Hit trees and crashed in an isolated area loca...  1937       NaT  \n",
       "646             Lufthansa chairman, Von Gablenz killed.  1942       NaT  \n",
       "999   The cargo plane was shot down by communist ant...  1947       NaT  \n",
       "2895  The cargo plane stalled nearly vertical and cr...  1977       NaT  "
      ]
     },
     "execution_count": 36,
     "metadata": {},
     "output_type": "execute_result"
    }
   ],
   "source": [
    "df[df['location'].isnull()]"
   ]
  },
  {
   "cell_type": "markdown",
   "metadata": {},
   "source": [
    "Vamos a complementar buscando información sobre esas fechas, para intentar determinar las locaciones. En particular para esta sección utilicé el siguiente enlace buscando por las fechas indicadas y verificando con la información de las otras columnas que efectivamente sea el mismo accidente. https://aviation-safety.net/wikibase/"
   ]
  },
  {
   "cell_type": "markdown",
   "metadata": {},
   "source": [
    "El único valor donde pudimos complementar la información fue el indice=999. https://aviation-safety.net/database/record.php?id=19471127-1"
   ]
  },
  {
   "cell_type": "code",
   "execution_count": 37,
   "metadata": {},
   "outputs": [],
   "source": [
    "df.loc[999, 'location']= 'Yakutat, AK, United States'"
   ]
  },
  {
   "cell_type": "code",
   "execution_count": 38,
   "metadata": {},
   "outputs": [],
   "source": [
    "df.loc[999, 'registration']='NC95486'"
   ]
  },
  {
   "cell_type": "code",
   "execution_count": 39,
   "metadata": {},
   "outputs": [
    {
     "data": {
      "text/plain": [
       "date                                                  1947-11-27 00:00:00\n",
       "time                                                                     \n",
       "location                                       Yakutat, AK, United States\n",
       "airline_operator                      China National Aviation Corporation\n",
       "route                                                                 NaN\n",
       "aircraft_type                                                Douglas DC-3\n",
       "registration                                                      NC95486\n",
       "cn_ln                                                                 NaN\n",
       "all_aboard                                                              3\n",
       "passengers_aboard                                                       0\n",
       "crew_aboard                                                             3\n",
       "total_fatalities                                                        2\n",
       "passenger_fatalities                                                    0\n",
       "crew_fatalities                                                         2\n",
       "ground                                                                  0\n",
       "summary                 The cargo plane was shot down by communist ant...\n",
       "year                                                                 1947\n",
       "date_time                                                             NaT\n",
       "Name: 999, dtype: object"
      ]
     },
     "execution_count": 39,
     "metadata": {},
     "output_type": "execute_result"
    }
   ],
   "source": [
    "df.iloc[999]"
   ]
  },
  {
   "cell_type": "markdown",
   "metadata": {},
   "source": [
    "Se extrae del material complementario la lista de países donde ocurrieron accidentes aéreos. Se hicieron algunas modificaciones en función a cómo aparecían los países en la lista: Por ej se reemplazó United Kingdom por UK."
   ]
  },
  {
   "cell_type": "code",
   "execution_count": 40,
   "metadata": {},
   "outputs": [],
   "source": [
    "countries_with_accidents=[ \"Afghanistan\", \"Albania\", \"Algeria\", \"Andorra\", \"Angola\", \"Antigua and Barbuda\", \"Argentina\", \"Armenia\",\"Australia\",\"Austria\", \"Azerbaijan\", \"Bahamas\", \"Bahrain\", \"Bangladesh\", \"Barbados\", \"Belarus\", \"Belgium\",\"Belize\", \"Benin\", \"Bhutan\", \"Bolivia\", \"Bosnia and Herzegovina\", \"Botswana\", \"Brazil\", \"Brunei\", \"Bulgaria\",\"Burkina Faso\", \"Burundi\", \"Côte d'Ivoire\", \"Cabo Verde\", \"Cambodia\", \"Cameroon\", \"Canada\",\n",
    "\"Central African Republic\", \"Chad\", \"Chile\", \"China\", \"Colombia\", \"Comoros\", \"Congo\", \"Costa Rica\", \"Croatia\",\"Cuba\", \"Cyprus\", \"Czech Republic\", \"Democratic Republic of the Congo\", \"Denmark\", \"Djibouti\", \"Dominica\",\"Dominican Republic\", \"Ecuador\", \"England\", \"Egypt\", \"El Salvador\", \"Equatorial Guinea\", \"Eritrea\", \"Estonia\",\"Eswatini\", \"Ethiopia\", \"Fiji\", \"Finland\", \"France\", \"Gabon\", \"Gambia\", \"Georgia\", \"Germany\", \"Ghana\", \"Greece\",\"Grenada\", \"Guatemala\", \"Guinea\", \"Guinea-Bissau\", \"Guyana\", \"Haiti\", \"Holy See\", \"Honduras\", \"Hungary\",\"Iceland\", \"Island\", \"India\", \"Indonesia\", \"Iran\", \"Iraq\", \"Ireland\", \"Israel\", \"Italy\", \"Jamaica\", \"Japan\", \"Jordan\",\"Kazakhstan\", \"Kenya\", \"Kiribati\", \"Kuwait\", \"Kyrgyzstan\", \"Laos\", \"Latvia\", \"Lebanon\", \"Lesotho\", \"Liberia\",\"Libya\", \"Liechtenstein\", \"Lithuania\", \"Luxembourg\", \"Madagascar\", \"Malawi\", \"Malaysia\", \"Maldives\", \"Mali\",\"Malta\", \"Marshall Islands\", \"Mauritania\", \"Mauritius\", \"Mexico\", \"Micronesia\", \"Moldova\", \"Monaco\", \"Mongolia\",\n",
    "\"Montenegro\", \"Morocco\", \"Mozambique\", \"Myanmar\", \"Namibia\", \"Nauru\", \"Nepal\", \"Netherlands\", \"New Zealand\", \"Nicaragua\",\"Nigeria\", \"Niger\",  \"North Korea\", \"North Macedonia\", \"Norway\", \"Oman\", \"Pakistan\", \"Palau\",\"Palestine State\", \"Panama\", \"Papua New Guinea\", \"Paraguay\", \"Peru\", \"Philippines\", \"Poland\", \"Portugal\", \"Puerto Rico\",\"Qatar\", \"Romania\", \"Russia\", \"Rwanda\", \"Saint Kitts and Nevis\", \"Saint Lucia\",\"Saint Vincent and the Grenadines\", \"Samoa\", \"San Marino\", \"Sao Tome and Principe\", \"Saudi Arabia\", \"Senegal\", \"Scotland\",\"Serbia\", \"Seychelles\", \"Sierra Leone\", \"Singapore\", \"Slovakia\", \"Slovenia\", \"Solomon Islands\", \"Somalia\",\"South Africa\", \"South Korea\", \"South Sudan\", \"Spain\", \"Sri Lanka\", \"Sudan\", \"Suriname\", \"Sweden\", \"Switzerland\", \"Syria\", \"Tajikistan\", \"Taiwan\", \"Tanzania\", \"Thailand\", \"Timor-Leste\", \"Togo\", \"Tonga\", \"Trinidad and Tobago\",\"Tunisia\", \"Turkey\", \"Turkmenistan\", \"Tuvalu\", \"Uganda\", \"Ukraine\", \"United Arab Emirates\", \"United Kingdom\",\"United States\", \"Uruguay\", \"USSR\", \"Uzbekistan\", \"Vanuatu\", \"Venezuela\", \"Vietnam\", \"Yemen\", \"Zambia\", \"Zimbabwe\"]"
   ]
  },
  {
   "cell_type": "code",
   "execution_count": 41,
   "metadata": {},
   "outputs": [],
   "source": [
    "#Reemplazamos los nulos por los vacíos\n",
    "df['location'] = df['location'].fillna('Sin dato')"
   ]
  },
  {
   "cell_type": "code",
   "execution_count": 42,
   "metadata": {},
   "outputs": [],
   "source": [
    "# Definimos la función que colocará los valores en 'country'\n",
    "# Si no encuentra coincidencia en 'location' colocará 'other'\n",
    "\n",
    "def obtener_pais(location):\n",
    "    for country in countries_with_accidents:\n",
    "        if country.lower() in location.lower():\n",
    "            return country\n",
    "    return 'other'"
   ]
  },
  {
   "cell_type": "code",
   "execution_count": 43,
   "metadata": {},
   "outputs": [],
   "source": [
    "# Aplicamos la función 'obtener_pais' a la columna 'location' y creamos la columna 'country'\n",
    "df['country'] = df['location'].apply(obtener_pais)"
   ]
  },
  {
   "cell_type": "code",
   "execution_count": 44,
   "metadata": {},
   "outputs": [
    {
     "data": {
      "text/plain": [
       "0"
      ]
     },
     "execution_count": 44,
     "metadata": {},
     "output_type": "execute_result"
    }
   ],
   "source": [
    "df['country'].isnull().sum()"
   ]
  },
  {
   "cell_type": "code",
   "execution_count": 45,
   "metadata": {},
   "outputs": [
    {
     "data": {
      "text/plain": [
       "(1238, 19)"
      ]
     },
     "execution_count": 45,
     "metadata": {},
     "output_type": "execute_result"
    }
   ],
   "source": [
    "df[df['country']=='other'].shape"
   ]
  },
  {
   "cell_type": "markdown",
   "metadata": {},
   "source": [
    "Podemos verificar que hay 1238 registros que no tienen un país asociado. Si revisamos el la columna location, de los registros que no tienen asignado un país (tienen other en la columna country), la mayoría se corresponde con ciudades de Estados Unidos. \n",
    "De esta manera insertaremos para esos registros el valos \"United States\""
   ]
  },
  {
   "cell_type": "code",
   "execution_count": 46,
   "metadata": {},
   "outputs": [],
   "source": [
    "ee_uu_states= [\"Alabama\", \"Alaska\", \"Arizona\", \"Arkansas\", \"California\", \"Calilfornia\", \"Californiia\", \"Colorado\", \"Connecticut\", \"Delaware\", \"Florida\", \"Georgia\", \"Hawaii\", \"Idaho\", \"Illinois\", \"Indiana\", \"Iowa\", \"Kansas\", \"Kentucky\", \"Louisiana\", \"Maine\",\"Maryland\", \"Massachusetts\", \"Michigan\", \"Minnesota\", \"Mississippi\", \"Missouri\", \"Montana\", \"Nebraska\",\n",
    "\"Nevada\", \"New Hampshire\", \"New Jersey\", \"New Mexico\", \"New York\", \"North Carolina\", \"North Dakota\", \"Ohio\",\"Oklahoma\", \"Oregon\", \"Pennsylvania\", \"Rhode Island\", \"South Carolina\", \"South Dakota\", \"Tennessee\", \"Texas\",\"Utah\", \"Vermont\", \"Virginia\", \"Washington\", \"West Virginia\", \"Wisconsin\", \"Wyoming\"\n",
    "]"
   ]
  },
  {
   "cell_type": "code",
   "execution_count": 47,
   "metadata": {},
   "outputs": [],
   "source": [
    "df.loc[df['location'].str.contains('|'.join(ee_uu_states), case=False, na=False), 'country'] = 'United States'"
   ]
  },
  {
   "cell_type": "code",
   "execution_count": 48,
   "metadata": {},
   "outputs": [],
   "source": [
    "df_no_location=df[df['country']=='other']"
   ]
  },
  {
   "cell_type": "code",
   "execution_count": 49,
   "metadata": {},
   "outputs": [
    {
     "data": {
      "text/plain": [
       "(297, 19)"
      ]
     },
     "execution_count": 49,
     "metadata": {},
     "output_type": "execute_result"
    }
   ],
   "source": [
    "df_no_location.shape"
   ]
  },
  {
   "cell_type": "markdown",
   "metadata": {},
   "source": [
    "Tenemos 297 valores donde no es posible identificar correctamente el país al que pertenece. Vamos a ver los valores de la columna location."
   ]
  },
  {
   "cell_type": "code",
   "execution_count": 50,
   "metadata": {},
   "outputs": [
    {
     "data": {
      "text/plain": [
       "array(['Over the North Sea', 'Near Jambol, Bulgeria',\n",
       "       'Over the Mediterranean', 'English Channel off Forkstone, Kent',\n",
       "       'Catherham, Surrey, UK', 'Cartagena, Columbia',\n",
       "       'Mendotta, Minnisota', 'Off Gibraltar', 'Mitchel Field, NY',\n",
       "       'North Atlantic Ocean', 'Over the Mediterranean Sea', 'Egbert, WY',\n",
       "       'Over the English Channel', 'English Channel',\n",
       "       'Leigh, Kent, Unied Kingdom', 'Atlantic Ocean',\n",
       "       \"L'Hospitalet, Ariège\", 'Algiers', 'Saint Catharines, Ontario',\n",
       "       'Terranova Pausania, East Sardinia', 'Near Sandoway, Burma',\n",
       "       'Off Algiers', 'Colvin Park, Ilinois', 'Aegean Sea',\n",
       "       'Near Ljubljana, Yugoslavia', 'Sin dato',\n",
       "       'Near Cordillera, Boliva', 'South Atlantic Ocean',\n",
       "       'Off Dakar, French West Africa', 'Off Western Africa',\n",
       "       'Mediterranean Sea', 'Near Wawona, Cailifornia', 'Andes',\n",
       "       'Pacific Ocean between Manila and Guam', 'Schiphol, Amsterdam',\n",
       "       'Atlantic Ocean between N.Y. and Bermuda', 'North Sea',\n",
       "       'South of Gibraltar', 'Near Bucaramanga, Columbia',\n",
       "       'Gulf of Tonkin', 'Gospic,,Coatia', 'Coen, Australila',\n",
       "       'Kupang, Timor', 'Near Kupang, Timor', 'Trinidad',\n",
       "       'Off West Africa', 'Botwood, Newfoundland',\n",
       "       'Near Gander, Newfoundland', 'Noumea,  New Caledonia', 'Gibraltar',\n",
       "       'Belgrad, Yugoslavia', 'Near Lidköping, Västergötland, Swden',\n",
       "       'Bosnia', 'Off Drewin, Ivory Coast', 'Timor Sea, Atlantic Ocean',\n",
       "       'Himalayas', 'Bangui, French Equatorial Africa',\n",
       "       'Off Hobart, Tasmania', 'Off Malaya', 'Bassein, Burma',\n",
       "       'Near Hong Kong International Airport',\n",
       "       'Stephenville, Newfoundland', 'Off Penang, Malaya',\n",
       "       'North Pacific Ocean', 'Caribbean, Atlantic Ocean', 'Hong Kong',\n",
       "       'Black Sea, Gulf of Karkinitsky',\n",
       "       'Ocean, 800 miles east of Newfoundland',\n",
       "       'Montenegrin Mountains, Yugoslavia', 'Near Goose Bay, Labrador',\n",
       "       'Atlantic Ocean, NE of Bermuda', 'Isle of Man',\n",
       "       'Pacific Ocean between Hong Kong and Macao',\n",
       "       '1,200 miles off Dakar, Atlantic Ocean',\n",
       "       'Atlantic Ocean, off Bermuda', 'Trinity Bay, Newfoundland',\n",
       "       'Braemar Resevoir, Hong Kong', 'Near Bigstone Lake, Manitoba',\n",
       "       'Leopoldville, Zaire', 'Near Snag, Yukon Territory',\n",
       "       'Llandow Airport, Cardiff, Wales', 'Lagens Air Force Base, Azores',\n",
       "       'Near Zagreb, Yugoslavia', 'Almelund, Minnisota',\n",
       "       'Mt. Butler, Hong Kong', 'Over the North Atlantic',\n",
       "       \"Cape d'Arguilar, Hong Kong\", 'Near Rijeka, Yugoslavia',\n",
       "       'Near Tachikawa Air Base', 'North Atlantic', 'Skopje, Yugoslavia',\n",
       "       'Near Gao, French West Africa', 'Baltic Sea',\n",
       "       'Off Northumberland, North Sea', 'Near Sofia, Bugaria',\n",
       "       'Off Bermuda-Kindley Field, Bermuda', 'Mtara, Tanganyika',\n",
       "       'Off Irish coast', 'Off IJuuiden, North Sea',\n",
       "       'Near Rapid City, South Dekota', 'Near Cuidad de Valles, Mexic',\n",
       "       'Pacific Ocean (1,000 miles west of Honolulu, HI)',\n",
       "       'Seattle, Washingon', 'Thazi, Burma', 'Over the Pacific Ocean',\n",
       "       'Over the North Pacific Ocean', 'Narsarressuak, Greenland',\n",
       "       'Raiatea, French Polynesia', 'Dhaka, Baangladesh', 'Off Guam',\n",
       "       'Tashkent, Uzbekstan', 'Off Mar del Plata, Aregntina',\n",
       "       'Sandy Lake, Ontario', 'Gulf of Sirte', 'Montego Bay, Jamacia',\n",
       "       'Persian Gulf', 'Near Goma, Zaire', 'Off Naha, Okinawa',\n",
       "       'Mount Parker, Hong Kong', 'Sondreströmfjord, Greenland',\n",
       "       'Les Prevosts, Guernsey', 'Sao Tomé',\n",
       "       'Western Pacific Ocean, Philippine Sea', 'Near Hong Kong',\n",
       "       'Near Mong Pa Liao, Burma', 'Godthaab, Greenland',\n",
       "       'Basse-Terre, Guadaloupe, West Indies', 'Kamunza-Goi,  Katanga',\n",
       "       'Sao Tomé & Principe', 'Kadena AB, Okinawa', 'Camden, Tennesee',\n",
       "       'Mt. Kaolokung, Burma', 'Cape Desolation, Greenland',\n",
       "       'Off Dover, Deleware', 'Boston, Massachutes',\n",
       "       'Jeddah, Saudia Arabia\\rJeddah, Saudia Arabia',\n",
       "       'Parrottsville, Tennesee', 'Near Nashville, Tennesee',\n",
       "       'Near Belgrade, Yugoslavia', 'Near La Carlota, Phillipines',\n",
       "       'Chances Peak, Montserrat', 'Near Hourghada, UAR',\n",
       "       'Kai Tak, Hong Kong', 'Tananarive, Malagasy Republic',\n",
       "       'Basse-Terre, Guadeloupe, West Indies',\n",
       "       'Near Saint Denis, Reunion', 'Off Chili', 'Kinshasa, Zaire',\n",
       "       'Near Lashio, Burma', 'McGrath, Alakska',\n",
       "       'Pointe-à-Pitre, Guadeloupe', 'Off Papeete, Tahiti',\n",
       "       'Honolulu, HI', 'Moganik, Yugoslavia', 'Near Honolulu, HI',\n",
       "       'Near Souda, Crete', 'Battambang, Khmer Republic',\n",
       "       'Near Ouagadougou, Upper Volta', 'Near Kisangani, Zaire',\n",
       "       'Budapest, Hunary', 'Souda, Crete', 'Zamboanga, Philipines',\n",
       "       'Agana, Guam', 'Daiku, Burma', 'Near Gaj, Hrvatska, Yugoslavia',\n",
       "       'Off Hong Kong', 'Mt. Loi Hsam Hsao, Burma', 'Okaraba, Burma',\n",
       "       \"Saint John's, Newfoundland\", 'Papun, Burma', 'Whittier, AK',\n",
       "       'Near Steamboat Springs, Coloado', 'Near Kariba, Rhodesia',\n",
       "       'Near Mt. Erebus, Ross Ice Shelf, Antarctica',\n",
       "       'Over the Atlantic Ocean', 'Near Mandalay, Burma',\n",
       "       'Nouadhibou, Mauretania', 'Kindu, Zaire', 'Near Kindu, Zaire',\n",
       "       'Pacific Ocean', 'Near Mina Jebel Ali, UAE', 'Off  Bimini',\n",
       "       'Near the Kwango River, Zaire', 'Kulusuk, Greenland',\n",
       "       'Kasongo, Zaire', 'Omsk, Soviet Union', 'Abidjan, Ivory Coast',\n",
       "       'Heho, Burma', 'Over the Andaman Sea', 'Kowloon Bay, Hong Kong',\n",
       "       'Near Paramaribo, Surinam', 'Milford Sound',\n",
       "       'Off Freetown, Sierre Leone', 'Near Kinshasa, Zaire',\n",
       "       'Off Sondre Stromfjord, Greenland', 'San Diego, CA',\n",
       "       'Off Nuka Hiva, French Polynesia', 'Grand Canyon, Airzona',\n",
       "       'Off Matthewtown, Great Inagua', 'Near Skopje, Macedonia',\n",
       "       'Skopje, Macedonia', 'Blountville, Tennesee',\n",
       "       'Near Ohrid, Macedonia', 'Near Nag', 'Barskoon, Kirghizia',\n",
       "       'Off Puerto Plata, Domincan Republic', 'Port-au-Prince, Hati',\n",
       "       'Near Mergui, Manmar', 'Belgrade, Yugosalvia',\n",
       "       'Off Cape Mendocino, CA', 'Near Uvira, Zaire',\n",
       "       'Near Nador, Morroco', 'Praia, Cape Verde',\n",
       "       'Near Pristina, Kosovo', 'Off Abidjan, Ivory Coast',\n",
       "       'Near Sumacal, Beni, BO',\n",
       "       'Gustavia, St. Barthélémy, French West Indies',\n",
       "       'Lajes, Terceira, Azores', 'Khankala, Chechnya',\n",
       "       'Baucau, East Timor', 'Sao Gabriel de Cachoeria',\n",
       "       'Bitonja, Bosnia-Herzegovina', 'Near Bagram, Afghanstan',\n",
       "       'Aru, Democratic Republic Cogo', 'Near Karkov',\n",
       "       'Near Watertown, Wisconson', 'La Ronge, Saskatchewan',\n",
       "       'Jumla, Napal', 'Shatoi, Chechnya', 'Near Milwaukee, Wisconson',\n",
       "       'Off Moorea, French Polynesia', 'Blace, Macedonia',\n",
       "       'Off Crimea, Black Sea', 'Off St. Johns, Newfoundland',\n",
       "       'Ugamsk Gorge, South Kazakistan', 'Fox Glacier Airstrip',\n",
       "       'Antigua', 'Moosonee, Ontario', 'Soldotna, Alaksa',\n",
       "       'Bwabwata National Park, Nambia', 'Java Sea',\n",
       "       'Tangok mountain, Papua', 'Near Itta Bena, Mississipi',\n",
       "       'Near Fond-du-Lac, Saskatchewan',\n",
       "       'Zhengchang, Suiyang County, Guizhou Province'], dtype=object)"
      ]
     },
     "execution_count": 50,
     "metadata": {},
     "output_type": "execute_result"
    }
   ],
   "source": [
    "df_no_location['location'].unique()"
   ]
  },
  {
   "cell_type": "markdown",
   "metadata": {},
   "source": [
    "Podemos observar que varias de las columnas tienen algunas palabras como Over, Near, Off en vez de un lugar en concreto, por lo tanto decido limpiar esas palabras de mi dataset."
   ]
  },
  {
   "cell_type": "code",
   "execution_count": 51,
   "metadata": {},
   "outputs": [],
   "source": [
    "df['location']=df['location'].str.replace(', ', ',')\n",
    "df['location']=df['location'].str.replace('Over ', '')\n",
    "df['location']=df['location'].str.replace('Near ', '')\n",
    "df['location']=df['location'].str.replace('Off ', '')"
   ]
  },
  {
   "cell_type": "code",
   "execution_count": 52,
   "metadata": {},
   "outputs": [
    {
     "data": {
      "text/plain": [
       "array(['the North Sea', 'Jambol,Bulgeria', 'the Mediterranean',\n",
       "       'English Channel off Forkstone,Kent', 'Catherham,Surrey,UK',\n",
       "       'Cartagena,Columbia', 'Mendotta,Minnisota', 'Gibraltar',\n",
       "       'Mitchel Field,NY', 'North Atlantic Ocean',\n",
       "       'the Mediterranean Sea', 'Egbert,WY', 'the English Channel',\n",
       "       'English Channel', 'Leigh,Kent,Unied Kingdom', 'Atlantic Ocean',\n",
       "       \"L'Hospitalet,Ariège\", 'Algiers', 'Saint Catharines,Ontario',\n",
       "       'Terranova Pausania,East Sardinia', 'Sandoway,Burma',\n",
       "       'Colvin Park,Ilinois', 'Aegean Sea', 'Ljubljana,Yugoslavia',\n",
       "       'Sin dato', 'Cordillera,Boliva', 'South Atlantic Ocean',\n",
       "       'Dakar,French West Africa', 'Western Africa', 'Mediterranean Sea',\n",
       "       'Wawona,Cailifornia', 'Andes',\n",
       "       'Pacific Ocean between Manila and Guam', 'Schiphol,Amsterdam',\n",
       "       'Atlantic Ocean between N.Y. and Bermuda', 'North Sea',\n",
       "       'South of Gibraltar', 'Bucaramanga,Columbia', 'Gulf of Tonkin',\n",
       "       'Gospic,,Coatia', 'Coen,Australila', 'Kupang,Timor', 'Trinidad',\n",
       "       'West Africa', 'Botwood,Newfoundland', 'Gander,Newfoundland',\n",
       "       'Noumea, New Caledonia', 'Belgrad,Yugoslavia',\n",
       "       'Lidköping,Västergötland,Swden', 'Bosnia', 'Drewin,Ivory Coast',\n",
       "       'Timor Sea,Atlantic Ocean', 'Himalayas',\n",
       "       'Bangui,French Equatorial Africa', 'Hobart,Tasmania', 'Malaya',\n",
       "       'Bassein,Burma', 'Hong Kong International Airport',\n",
       "       'Stephenville,Newfoundland', 'Penang,Malaya',\n",
       "       'North Pacific Ocean', 'Caribbean,Atlantic Ocean', 'Hong Kong',\n",
       "       'Black Sea,Gulf of Karkinitsky',\n",
       "       'Ocean,800 miles east of Newfoundland',\n",
       "       'Montenegrin Mountains,Yugoslavia', 'Goose Bay,Labrador',\n",
       "       'Atlantic Ocean,NE of Bermuda', 'Isle of Man',\n",
       "       'Pacific Ocean between Hong Kong and Macao',\n",
       "       '1,200 miles off Dakar,Atlantic Ocean',\n",
       "       'Atlantic Ocean,off Bermuda', 'Trinity Bay,Newfoundland',\n",
       "       'Braemar Resevoir,Hong Kong', 'Bigstone Lake,Manitoba',\n",
       "       'Leopoldville,Zaire', 'Snag,Yukon Territory',\n",
       "       'Llandow Airport,Cardiff,Wales', 'Lagens Air Force Base,Azores',\n",
       "       'Zagreb,Yugoslavia', 'Almelund,Minnisota', 'Mt. Butler,Hong Kong',\n",
       "       'the North Atlantic', \"Cape d'Arguilar,Hong Kong\",\n",
       "       'Rijeka,Yugoslavia', 'Tachikawa Air Base', 'North Atlantic',\n",
       "       'Skopje,Yugoslavia', 'Gao,French West Africa', 'Baltic Sea',\n",
       "       'Northumberland,North Sea', 'Sofia,Bugaria',\n",
       "       'Bermuda-Kindley Field,Bermuda', 'Mtara,Tanganyika', 'Irish coast',\n",
       "       'IJuuiden,North Sea', 'Rapid City,South Dekota',\n",
       "       'Cuidad de Valles,Mexic',\n",
       "       'Pacific Ocean (1,000 miles west of Honolulu,HI)',\n",
       "       'Seattle,Washingon', 'Thazi,Burma', 'the Pacific Ocean',\n",
       "       'the North Pacific Ocean', 'Narsarressuak,Greenland',\n",
       "       'Raiatea,French Polynesia', 'Dhaka,Baangladesh', 'Guam',\n",
       "       'Tashkent,Uzbekstan', 'Mar del Plata,Aregntina',\n",
       "       'Sandy Lake,Ontario', 'Gulf of Sirte', 'Montego Bay,Jamacia',\n",
       "       'Persian Gulf', 'Goma,Zaire', 'Naha,Okinawa',\n",
       "       'Mount Parker,Hong Kong', 'Sondreströmfjord,Greenland',\n",
       "       'Les Prevosts,Guernsey', 'Sao Tomé',\n",
       "       'Western Pacific Ocean,Philippine Sea', 'Mong Pa Liao,Burma',\n",
       "       'Godthaab,Greenland', 'Basse-Terre,Guadaloupe,West Indies',\n",
       "       'Kamunza-Goi, Katanga', 'Sao Tomé & Principe', 'Kadena AB,Okinawa',\n",
       "       'Camden,Tennesee', 'Mt. Kaolokung,Burma',\n",
       "       'Cape Desolation,Greenland', 'Dover,Deleware',\n",
       "       'Boston,Massachutes', 'Jeddah,Saudia Arabia\\rJeddah,Saudia Arabia',\n",
       "       'Parrottsville,Tennesee', 'Nashville,Tennesee',\n",
       "       'Belgrade,Yugoslavia', 'La Carlota,Phillipines',\n",
       "       'Chances Peak,Montserrat', 'Hourghada,UAR', 'Kai Tak,Hong Kong',\n",
       "       'Tananarive,Malagasy Republic',\n",
       "       'Basse-Terre,Guadeloupe,West Indies', 'Saint Denis,Reunion',\n",
       "       'Chili', 'Kinshasa,Zaire', 'Lashio,Burma', 'McGrath,Alakska',\n",
       "       'Pointe-à-Pitre,Guadeloupe', 'Papeete,Tahiti', 'Honolulu,HI',\n",
       "       'Moganik,Yugoslavia', 'Souda,Crete', 'Battambang,Khmer Republic',\n",
       "       'Ouagadougou,Upper Volta', 'Kisangani,Zaire', 'Budapest,Hunary',\n",
       "       'Zamboanga,Philipines', 'Agana,Guam', 'Daiku,Burma',\n",
       "       'Gaj,Hrvatska,Yugoslavia', 'Mt. Loi Hsam Hsao,Burma',\n",
       "       'Okaraba,Burma', \"Saint John's,Newfoundland\", 'Papun,Burma',\n",
       "       'Whittier,AK', 'Steamboat Springs,Coloado', 'Kariba,Rhodesia',\n",
       "       'Mt. Erebus,Ross Ice Shelf,Antarctica', 'the Atlantic Ocean',\n",
       "       'Mandalay,Burma', 'Nouadhibou,Mauretania', 'Kindu,Zaire',\n",
       "       'Pacific Ocean', 'Mina Jebel Ali,UAE', ' Bimini',\n",
       "       'the Kwango River,Zaire', 'Kulusuk,Greenland', 'Kasongo,Zaire',\n",
       "       'Omsk,Soviet Union', 'Abidjan,Ivory Coast', 'Heho,Burma',\n",
       "       'the Andaman Sea', 'Kowloon Bay,Hong Kong', 'Paramaribo,Surinam',\n",
       "       'Milford Sound', 'Freetown,Sierre Leone',\n",
       "       'Sondre Stromfjord,Greenland', 'San Diego,CA',\n",
       "       'Nuka Hiva,French Polynesia', 'Grand Canyon,Airzona',\n",
       "       'Matthewtown,Great Inagua', 'Skopje,Macedonia',\n",
       "       'Blountville,Tennesee', 'Ohrid,Macedonia', 'Nag',\n",
       "       'Barskoon,Kirghizia', 'Puerto Plata,Domincan Republic',\n",
       "       'Port-au-Prince,Hati', 'Mergui,Manmar', 'Belgrade,Yugosalvia',\n",
       "       'Cape Mendocino,CA', 'Uvira,Zaire', 'Nador,Morroco',\n",
       "       'Praia,Cape Verde', 'Pristina,Kosovo', 'Sumacal,Beni,BO',\n",
       "       'Gustavia,St. Barthélémy,French West Indies',\n",
       "       'Lajes,Terceira,Azores', 'Khankala,Chechnya', 'Baucau,East Timor',\n",
       "       'Sao Gabriel de Cachoeria', 'Bitonja,Bosnia-Herzegovina',\n",
       "       'Bagram,Afghanstan', 'Aru,Democratic Republic Cogo', 'Karkov',\n",
       "       'Watertown,Wisconson', 'La Ronge,Saskatchewan', 'Jumla,Napal',\n",
       "       'Shatoi,Chechnya', 'Milwaukee,Wisconson',\n",
       "       'Moorea,French Polynesia', 'Blace,Macedonia', 'Crimea,Black Sea',\n",
       "       'St. Johns,Newfoundland', 'Ugamsk Gorge,South Kazakistan',\n",
       "       'Fox Glacier Airstrip', 'Antigua', 'Moosonee,Ontario',\n",
       "       'Soldotna,Alaksa', 'Bwabwata National Park,Nambia', 'Java Sea',\n",
       "       'Tangok mountain,Papua', 'Itta Bena,Mississipi',\n",
       "       'Fond-du-Lac,Saskatchewan',\n",
       "       'Zhengchang,Suiyang County,Guizhou Province'], dtype=object)"
      ]
     },
     "execution_count": 52,
     "metadata": {},
     "output_type": "execute_result"
    }
   ],
   "source": [
    "#Verificamos la eliminación de las preposiciones mencionadas\n",
    "df[df['country']=='other']['location'].unique()"
   ]
  },
  {
   "cell_type": "markdown",
   "metadata": {},
   "source": [
    "Podemos encontrar algunos errores (y solo menciono algunos para poder detectar la mayor cantidad de países posible)"
   ]
  },
  {
   "cell_type": "code",
   "execution_count": 53,
   "metadata": {},
   "outputs": [],
   "source": [
    "df['location']=df['location'].str.replace('Jambol,Bulgeria', 'Jambol,Bulgaria')\n",
    "df['location']=df['location'].str.replace('Catherham,Surrey,UK', 'Caterham,Surrey,United Kingdom')\n",
    "df['location']=df['location'].str.replace('Mendotta,Minnisota', 'Mendota,Minnesota')\n",
    "df['location']=df['location'].str.replace('Cartagena,Columbia', 'Cartagena,Colombia')\n",
    "df['location']=df['location'].str.replace('Mitchel Field,NY', 'Mitchel Field, New York')\n",
    "df['location']=df['location'].str.replace('Leigh,Kent,Unied Kingdom', 'Leigh,Kent,United Kingdom')\n",
    "df['location']=df['location'].str.replace('Sofia,Bugaria', 'Sofia,Bulgaria')\n",
    "df['location']=df['location'].str.replace('Mar del Plata,Aregntina', 'Mar del Plata,Argentina')\n",
    "df['location']=df['location'].str.replace('Montego Bay,Jamacia', 'Montego Bay,Jamaica')\n",
    "df['location']=df['location'].str.replace('Western Pacific Ocean,Philippine Sea', 'Western Pacific Ocean,Philippines')\n",
    "df['location']=df['location'].str.replace('La Carlota,Phillipines', 'La Carlota,Philippines')\n",
    "df['location']=df['location'].str.replace('Gospic,,Coatia', 'Gospic,Croatia')\n",
    "df['location']=df['location'].str.replace('Coen,Australila', 'Coen,Australia')\n",
    "df['location']=df['location'].str.replace('Lidköping,Västergötland,Swden', 'Lidköping,Västergötland,Sweden')\n",
    "df['location']=df['location'].str.replace('Budapest,Hunary', 'Budapest,Hungary')\n",
    "df['location']=df['location'].str.replace('Cordillera,Boliva','Cordillera,Bolivia')\n",
    "df['location']=df['location'].str.replace('Bucaramanga,Columbia', 'Bucaramanga,Colombia')"
   ]
  },
  {
   "cell_type": "code",
   "execution_count": 54,
   "metadata": {},
   "outputs": [],
   "source": [
    "df['location']=df['location'].str.replace('Fort Myer,Virginia', 'Fort Myer,Virginia, United States')\n",
    "df['location']=df['location'].str.replace('Atlantic City,New Jersey', 'Atlantic City,New Jersey, United States')\n",
    "df['location']=df['location'].str.replace('Elizabeth,New Jersey', 'Elizabeth,New Jersey, United States')\n",
    "df['location']=df['location'].str.replace('Cleveland,Ohio','Cleveland,Ohio, United States')\n",
    "df['location']=df['location'].str.replace('Dix Run,Pennsylvania','Dix Run,Pennsylvania, United States')\n",
    "df['location']=df['location'].str.replace('Chicago,Illinois','Chicago,Illinois, United States')\n",
    "df['location']=df['location'].str.replace('Cantonsville,Maryland','Cantonsville,Maryland, United States')\n",
    "df['location']=df['location'].str.replace('Long Valley,New Jersey','Long Valley,New Jersey, United States')\n",
    "df['location']=df['location'].str.replace('Newark,New Jersey','Newark,New Jersey, United States')\n",
    "df['location']=df['location'].str.replace('Heller Field,New Jersey','Heller Field,New Jersey, United States')\n",
    "df['location']=df['location'].str.replace('Newark,New Jersey', 'Newark,New Jersey, United States')\n",
    "df['location']=df['location'].str.replace('Oskaloosa,Iowa', 'Oskaloosa,Iowa, United States')\n",
    "df['location']=df['location'].str.replace('College Park,Maryland', 'College Park,Maryland, United States')\n",
    "df['location']=df['location'].str.replace('Morristown,New Jersey', 'Morristown,New Jersey, United States')\n"
   ]
  },
  {
   "cell_type": "code",
   "execution_count": 55,
   "metadata": {},
   "outputs": [],
   "source": [
    "df['location']=df['location'].str.replace('Pemberville,Ohio', 'Pemberville,Ohio, United States')\n",
    "df['location']=df['location'].str.replace('Hillersburg,Pennsylvania', 'Hillersburg,Pennsylvania, United States')\n",
    "df['location']=df['location'].str.replace('Batavia,Illinois', 'Batavia,Illinois, United States')\n",
    "df['location']=df['location'].str.replace('La Crosse,Wisconsin', 'La Crosse,Wisconsin, United States')\n",
    "df['location']=df['location'].str.replace('Mitchel Field, New York', 'Mitchel Field, New York, United States')\n",
    "df['location']=df['location'].str.replace('Rock Springs,Wyoming', 'Rock Springs,Wyoming, United States')\n",
    "df['location']=df['location'].str.replace('Norfolk,Virginia', 'Norfolk,Virginia, United States')\n",
    "df['location']=df['location'].str.replace('Cheyenne,Wyoming', 'Cheyenne,Wyoming, United States')\n",
    "df['location']=df['location'].str.replace('Newark,New Jersey', 'Newark,New Jersey, United States')\n",
    "df['location']=df['location'].str.replace('Meadville,Pennsylvania', 'Meadville,Pennsylvania, United States')\n",
    "df['location']=df['location'].str.replace('Colton,Ohio', 'Colton,Ohio, United States')\n",
    "df['location']=df['location'].str.replace('Castalia,Ohio', 'Castalia,Ohio, United States')\n",
    "df['location']=df['location'].str.replace('Grampian,Pennsylvania', 'Grampian,Pennsylvania, United States')\n",
    "df['location']=df['location'].str.replace('Caldwell,Ohio', 'Caldwell,Ohio, United States')"
   ]
  },
  {
   "cell_type": "code",
   "execution_count": 56,
   "metadata": {},
   "outputs": [],
   "source": [
    "df['location']=df['location'].str.replace('Mt. Nittany,Ohio', 'Mt. Nittany,Ohio, United States')\n",
    "df['location']=df['location'].str.replace('Montpelier,Ohio', 'Montpelier,Ohio, United States')\n",
    "df['location']=df['location'].str.replace('New York,New York', 'New York,New York, United States')\n",
    "df['location']=df['location'].str.replace('Medford,Oregon', 'Medford,Oregon, United States')\n",
    "df['location']=df['location'].str.replace('King Hill,Idaho', 'King Hill,Idaho, United States')\n",
    "df['location']=df['location'].str.replace('Willington,Connecticut', 'Willington,Connecticut, United States')\n",
    "df['location']=df['location'].str.replace('Hadley,New Jersey', 'Hadley,New Jersey, United States')\n",
    "df['location']=df['location'].str.replace('New Brunswick,New Jersey', 'New Brunswick,New Jersey, United States')\n",
    "df['location']=df['location'].str.replace('Canajoharie,New York', 'Canajoharie,New York, United States')\n",
    "df['location']=df['location'].str.replace('Meadville,Pennsylvania', 'Meadville,Pennsylvania, United States')\n",
    "df['location']=df['location'].str.replace('Colton,Ohio', 'Colton,Ohio, United States')\n",
    "df['location']=df['location'].str.replace('Castalia,Ohio', 'Castalia,Ohio, United States')\n",
    "df['location']=df['location'].str.replace('Grampian,Pennsylvania', 'Grampian,Pennsylvania, United States')\n",
    "df['location']=df['location'].str.replace('Caldwell,Ohio', 'Caldwell,Ohio, United States')"
   ]
  },
  {
   "cell_type": "code",
   "execution_count": 57,
   "metadata": {},
   "outputs": [],
   "source": [
    "# Aplicamos la función 'obtener_pais' nuevamente a la columna 'location' y creamos la columna 'country'\n",
    "df['country'] = df['location'].apply(obtener_pais)"
   ]
  },
  {
   "cell_type": "code",
   "execution_count": 58,
   "metadata": {},
   "outputs": [
    {
     "data": {
      "text/plain": [
       "160"
      ]
     },
     "execution_count": 58,
     "metadata": {},
     "output_type": "execute_result"
    }
   ],
   "source": [
    "df['country'].nunique()"
   ]
  },
  {
   "cell_type": "code",
   "execution_count": 59,
   "metadata": {},
   "outputs": [],
   "source": [
    "#Vuelvo a determinar que si hay un estado de EE UU en la lista definida, se coloque como país United States\n",
    "df.loc[df['location'].str.contains('|'.join(ee_uu_states), case=False, na=False), 'country'] = 'United States'"
   ]
  },
  {
   "cell_type": "code",
   "execution_count": 60,
   "metadata": {},
   "outputs": [
    {
     "data": {
      "text/plain": [
       "(280, 19)"
      ]
     },
     "execution_count": 60,
     "metadata": {},
     "output_type": "execute_result"
    }
   ],
   "source": [
    "#Volvemos a verificar el numero de valores con country=other\n",
    "df[df['country']=='other'].shape"
   ]
  },
  {
   "cell_type": "markdown",
   "metadata": {},
   "source": [
    "Logramos disminuir el numero de registros con country=other de 297 a 280, haciendo un proceso de tranformación de los datos. En este punto decido no modificar todos los datos por falta de tiempo para poder emplearlo más en detalle en la realización del análisis del dataset."
   ]
  },
  {
   "cell_type": "code",
   "execution_count": 61,
   "metadata": {},
   "outputs": [],
   "source": [
    "# Ahora separamos la ciudad del pais eliminado el ultimo valor de cada registro\n",
    "def split_city(data):\n",
    "    parts = data.rsplit(',', maxsplit=1)\n",
    "    return parts[0].strip()"
   ]
  },
  {
   "cell_type": "code",
   "execution_count": 62,
   "metadata": {},
   "outputs": [],
   "source": [
    "df['city'] = df['location'].astype(str).apply(split_city)"
   ]
  },
  {
   "cell_type": "code",
   "execution_count": 63,
   "metadata": {},
   "outputs": [
    {
     "data": {
      "text/plain": [
       "0              Fort Myer,Virginia\n",
       "1                 Juvisy-sur-Orge\n",
       "2        Atlantic City,New Jersey\n",
       "3       Victoria,British Columbia\n",
       "4                   the North Sea\n",
       "                  ...            \n",
       "5003                        Butte\n",
       "5004                       Kaduna\n",
       "5005                 Pyin Oo Lwin\n",
       "5006                 Patikul,Sulu\n",
       "5007                       Palana\n",
       "Name: city, Length: 5008, dtype: object"
      ]
     },
     "execution_count": 63,
     "metadata": {},
     "output_type": "execute_result"
    }
   ],
   "source": [
    "df['city']"
   ]
  },
  {
   "cell_type": "code",
   "execution_count": 64,
   "metadata": {},
   "outputs": [
    {
     "data": {
      "text/plain": [
       "3649"
      ]
     },
     "execution_count": 64,
     "metadata": {},
     "output_type": "execute_result"
    }
   ],
   "source": [
    "df['city'].nunique()"
   ]
  },
  {
   "cell_type": "markdown",
   "metadata": {},
   "source": [
    "Hay 3649 ciudades identificadas"
   ]
  },
  {
   "cell_type": "markdown",
   "metadata": {},
   "source": [
    "Observamos del trabajo de transformación hecho en la columna location, que varios de los valores poseen las palabras: Sea, Ocean, River, Channel en su locación. "
   ]
  },
  {
   "cell_type": "code",
   "execution_count": 65,
   "metadata": {},
   "outputs": [
    {
     "name": "stderr",
     "output_type": "stream",
     "text": [
      "C:\\Users\\HP\\AppData\\Local\\Temp\\ipykernel_17660\\2061572978.py:2: UserWarning: This pattern is interpreted as a regular expression, and has match groups. To actually get the groups, use str.extract.\n",
      "  df[df['city'].str.contains(r'\\b(Sea|Ocean|River|Channel)\\b', case=False, na=False, regex=True)].shape\n"
     ]
    },
    {
     "data": {
      "text/plain": [
       "(91, 20)"
      ]
     },
     "execution_count": 65,
     "metadata": {},
     "output_type": "execute_result"
    }
   ],
   "source": [
    "# Contamos los location con la palabra oceano, mar, rio o canal \n",
    "df[df['city'].str.contains(r'\\b(Sea|Ocean|River|Channel)\\b', case=False, na=False, regex=True)].shape"
   ]
  },
  {
   "cell_type": "markdown",
   "metadata": {},
   "source": [
    "Observamos que hay 91 locaciones de accidentes que poseen algunas de las palabras anteriormente mencionadas, por lo tanto, decidimos hacer una clasificación entre los accidentes que ocurrieron en el agua (y los que no)."
   ]
  },
  {
   "cell_type": "code",
   "execution_count": 66,
   "metadata": {},
   "outputs": [],
   "source": [
    "#Creamos una función para determinar si las palabras Sea, Ocean, River o Chanell se encuentran en el registro\n",
    "def is_water(place):\n",
    "    if pd.isnull(place):\n",
    "        return False\n",
    "    elif re.search(r'\\b(Sea|Ocean|River|Channel)\\b', place, re.IGNORECASE):\n",
    "        return True\n",
    "    else:\n",
    "        return False"
   ]
  },
  {
   "cell_type": "code",
   "execution_count": 67,
   "metadata": {},
   "outputs": [],
   "source": [
    "#Se aplica la función a la columna ciudad\n",
    "df['accident_on_water'] = df['city'].apply(is_water)"
   ]
  },
  {
   "cell_type": "code",
   "execution_count": 68,
   "metadata": {},
   "outputs": [
    {
     "data": {
      "text/plain": [
       "accident_on_water\n",
       "False    4917\n",
       "True       91\n",
       "Name: count, dtype: int64"
      ]
     },
     "execution_count": 68,
     "metadata": {},
     "output_type": "execute_result"
    }
   ],
   "source": [
    "#Contamos los valores de cada uno de los casos\n",
    "df['accident_on_water'].value_counts()"
   ]
  },
  {
   "cell_type": "markdown",
   "metadata": {},
   "source": [
    "### 2.5) Operador de la aerolínea"
   ]
  },
  {
   "cell_type": "code",
   "execution_count": 69,
   "metadata": {},
   "outputs": [
    {
     "data": {
      "text/plain": [
       "10"
      ]
     },
     "execution_count": 69,
     "metadata": {},
     "output_type": "execute_result"
    }
   ],
   "source": [
    "#Definimos los nulos en airline_operator\n",
    "df['airline_operator'].isnull().sum()"
   ]
  },
  {
   "cell_type": "code",
   "execution_count": 70,
   "metadata": {},
   "outputs": [
    {
     "data": {
      "text/html": [
       "<div>\n",
       "<style scoped>\n",
       "    .dataframe tbody tr th:only-of-type {\n",
       "        vertical-align: middle;\n",
       "    }\n",
       "\n",
       "    .dataframe tbody tr th {\n",
       "        vertical-align: top;\n",
       "    }\n",
       "\n",
       "    .dataframe thead th {\n",
       "        text-align: right;\n",
       "    }\n",
       "</style>\n",
       "<table border=\"1\" class=\"dataframe\">\n",
       "  <thead>\n",
       "    <tr style=\"text-align: right;\">\n",
       "      <th></th>\n",
       "      <th>date</th>\n",
       "      <th>time</th>\n",
       "      <th>location</th>\n",
       "      <th>airline_operator</th>\n",
       "      <th>route</th>\n",
       "      <th>aircraft_type</th>\n",
       "      <th>registration</th>\n",
       "      <th>cn_ln</th>\n",
       "      <th>all_aboard</th>\n",
       "      <th>passengers_aboard</th>\n",
       "      <th>...</th>\n",
       "      <th>total_fatalities</th>\n",
       "      <th>passenger_fatalities</th>\n",
       "      <th>crew_fatalities</th>\n",
       "      <th>ground</th>\n",
       "      <th>summary</th>\n",
       "      <th>year</th>\n",
       "      <th>date_time</th>\n",
       "      <th>country</th>\n",
       "      <th>city</th>\n",
       "      <th>accident_on_water</th>\n",
       "    </tr>\n",
       "  </thead>\n",
       "  <tbody>\n",
       "    <tr>\n",
       "      <th>1</th>\n",
       "      <td>1909-09-07</td>\n",
       "      <td></td>\n",
       "      <td>Juvisy-sur-Orge,France</td>\n",
       "      <td>NaN</td>\n",
       "      <td>Air show</td>\n",
       "      <td>Wright Byplane</td>\n",
       "      <td>SC1</td>\n",
       "      <td>NaN</td>\n",
       "      <td>1</td>\n",
       "      <td>0</td>\n",
       "      <td>...</td>\n",
       "      <td>1</td>\n",
       "      <td>0</td>\n",
       "      <td>0</td>\n",
       "      <td>0</td>\n",
       "      <td>Eugene Lefebvre was the first pilot to ever be...</td>\n",
       "      <td>1909</td>\n",
       "      <td>NaT</td>\n",
       "      <td>France</td>\n",
       "      <td>Juvisy-sur-Orge</td>\n",
       "      <td>False</td>\n",
       "    </tr>\n",
       "    <tr>\n",
       "      <th>17</th>\n",
       "      <td>1917-06-17</td>\n",
       "      <td></td>\n",
       "      <td>Yarmouth,England</td>\n",
       "      <td>NaN</td>\n",
       "      <td>NaN</td>\n",
       "      <td>Zepplin L-48 (air ship)</td>\n",
       "      <td>L-48</td>\n",
       "      <td>NaN</td>\n",
       "      <td>16</td>\n",
       "      <td>NaN</td>\n",
       "      <td>...</td>\n",
       "      <td>14</td>\n",
       "      <td>NaN</td>\n",
       "      <td>NaN</td>\n",
       "      <td>0</td>\n",
       "      <td>Shot down by aircraft.</td>\n",
       "      <td>1917</td>\n",
       "      <td>NaT</td>\n",
       "      <td>England</td>\n",
       "      <td>Yarmouth</td>\n",
       "      <td>False</td>\n",
       "    </tr>\n",
       "    <tr>\n",
       "      <th>67</th>\n",
       "      <td>1922-04-08</td>\n",
       "      <td></td>\n",
       "      <td>Pao Ting Fou,China</td>\n",
       "      <td>NaN</td>\n",
       "      <td>Test</td>\n",
       "      <td>NaN</td>\n",
       "      <td>NaN</td>\n",
       "      <td>NaN</td>\n",
       "      <td>17</td>\n",
       "      <td>0</td>\n",
       "      <td>...</td>\n",
       "      <td>17</td>\n",
       "      <td>0</td>\n",
       "      <td>17</td>\n",
       "      <td>0</td>\n",
       "      <td>Aboard were all workers taking part in a fligh...</td>\n",
       "      <td>1922</td>\n",
       "      <td>NaT</td>\n",
       "      <td>China</td>\n",
       "      <td>Pao Ting Fou</td>\n",
       "      <td>False</td>\n",
       "    </tr>\n",
       "    <tr>\n",
       "      <th>69</th>\n",
       "      <td>1922-07-04</td>\n",
       "      <td></td>\n",
       "      <td>Fuhlsbuttel,Germany</td>\n",
       "      <td>NaN</td>\n",
       "      <td>Hamburg - Berlin</td>\n",
       "      <td>LVG C VI</td>\n",
       "      <td>NaN</td>\n",
       "      <td>NaN</td>\n",
       "      <td>3</td>\n",
       "      <td>2</td>\n",
       "      <td>...</td>\n",
       "      <td>2</td>\n",
       "      <td>1</td>\n",
       "      <td>1</td>\n",
       "      <td>0</td>\n",
       "      <td>The passenger/mail plane lost it's engine whil...</td>\n",
       "      <td>1922</td>\n",
       "      <td>NaT</td>\n",
       "      <td>Germany</td>\n",
       "      <td>Fuhlsbuttel</td>\n",
       "      <td>False</td>\n",
       "    </tr>\n",
       "    <tr>\n",
       "      <th>114</th>\n",
       "      <td>1926-09-26</td>\n",
       "      <td></td>\n",
       "      <td>New York,New York, United States</td>\n",
       "      <td>NaN</td>\n",
       "      <td>New York - Paris</td>\n",
       "      <td>Sikorsky S-25</td>\n",
       "      <td>NaN</td>\n",
       "      <td>NaN</td>\n",
       "      <td>5</td>\n",
       "      <td>4</td>\n",
       "      <td>...</td>\n",
       "      <td>2</td>\n",
       "      <td>2</td>\n",
       "      <td>0</td>\n",
       "      <td>0</td>\n",
       "      <td>Too much weight caused the landing gear to col...</td>\n",
       "      <td>1926</td>\n",
       "      <td>NaT</td>\n",
       "      <td>United States</td>\n",
       "      <td>New York,New York</td>\n",
       "      <td>False</td>\n",
       "    </tr>\n",
       "    <tr>\n",
       "      <th>376</th>\n",
       "      <td>1935-05-29</td>\n",
       "      <td></td>\n",
       "      <td>San Barbra,Honduras</td>\n",
       "      <td>NaN</td>\n",
       "      <td>NaN</td>\n",
       "      <td>NaN</td>\n",
       "      <td>NaN</td>\n",
       "      <td>NaN</td>\n",
       "      <td>9</td>\n",
       "      <td>NaN</td>\n",
       "      <td>...</td>\n",
       "      <td>6</td>\n",
       "      <td>NaN</td>\n",
       "      <td>NaN</td>\n",
       "      <td>0</td>\n",
       "      <td>Crashed into the Ulua River.</td>\n",
       "      <td>1935</td>\n",
       "      <td>NaT</td>\n",
       "      <td>Honduras</td>\n",
       "      <td>San Barbra</td>\n",
       "      <td>False</td>\n",
       "    </tr>\n",
       "    <tr>\n",
       "      <th>684</th>\n",
       "      <td>1943-07-04</td>\n",
       "      <td>23:00:00</td>\n",
       "      <td>Gibraltar</td>\n",
       "      <td>NaN</td>\n",
       "      <td>NaN</td>\n",
       "      <td>Consolidated Liberator B24 C</td>\n",
       "      <td>A-L-523</td>\n",
       "      <td>NaN</td>\n",
       "      <td>13</td>\n",
       "      <td>NaN</td>\n",
       "      <td>...</td>\n",
       "      <td>12</td>\n",
       "      <td>NaN</td>\n",
       "      <td>NaN</td>\n",
       "      <td>0</td>\n",
       "      <td>The flight, bound for London, crashed into the...</td>\n",
       "      <td>1943</td>\n",
       "      <td>1943-07-04 23:00:00</td>\n",
       "      <td>other</td>\n",
       "      <td>Gibraltar</td>\n",
       "      <td>False</td>\n",
       "    </tr>\n",
       "    <tr>\n",
       "      <th>859</th>\n",
       "      <td>1946-04-08</td>\n",
       "      <td></td>\n",
       "      <td>Shensi,China</td>\n",
       "      <td>NaN</td>\n",
       "      <td>Shensi - Yenan</td>\n",
       "      <td>NaN</td>\n",
       "      <td>NaN</td>\n",
       "      <td>NaN</td>\n",
       "      <td>14</td>\n",
       "      <td>11</td>\n",
       "      <td>...</td>\n",
       "      <td>14</td>\n",
       "      <td>11</td>\n",
       "      <td>3</td>\n",
       "      <td>0</td>\n",
       "      <td>NaN</td>\n",
       "      <td>1946</td>\n",
       "      <td>NaT</td>\n",
       "      <td>China</td>\n",
       "      <td>Shensi</td>\n",
       "      <td>False</td>\n",
       "    </tr>\n",
       "    <tr>\n",
       "      <th>2061</th>\n",
       "      <td>1963-09-02</td>\n",
       "      <td></td>\n",
       "      <td>Northeast Laos</td>\n",
       "      <td>NaN</td>\n",
       "      <td>NaN</td>\n",
       "      <td>Curtiss C-46 Commando</td>\n",
       "      <td>NaN</td>\n",
       "      <td>NaN</td>\n",
       "      <td>16</td>\n",
       "      <td>13</td>\n",
       "      <td>...</td>\n",
       "      <td>15</td>\n",
       "      <td>12</td>\n",
       "      <td>3</td>\n",
       "      <td>NaN</td>\n",
       "      <td>Refugee flight.</td>\n",
       "      <td>1963</td>\n",
       "      <td>NaT</td>\n",
       "      <td>Laos</td>\n",
       "      <td>Northeast Laos</td>\n",
       "      <td>False</td>\n",
       "    </tr>\n",
       "    <tr>\n",
       "      <th>4830</th>\n",
       "      <td>2011-12-26</td>\n",
       "      <td>05:54:00</td>\n",
       "      <td>Green Grove,Florida</td>\n",
       "      <td>NaN</td>\n",
       "      <td>Jacksonville, FL - Gainsville, FL</td>\n",
       "      <td>Bell 206B</td>\n",
       "      <td>N5016M</td>\n",
       "      <td>2636</td>\n",
       "      <td>3</td>\n",
       "      <td>2</td>\n",
       "      <td>...</td>\n",
       "      <td>3</td>\n",
       "      <td>2</td>\n",
       "      <td>1</td>\n",
       "      <td>0</td>\n",
       "      <td>The on-demand air taxi was on a flight to proc...</td>\n",
       "      <td>2011</td>\n",
       "      <td>2011-12-26 05:54:00</td>\n",
       "      <td>United States</td>\n",
       "      <td>Green Grove</td>\n",
       "      <td>False</td>\n",
       "    </tr>\n",
       "  </tbody>\n",
       "</table>\n",
       "<p>10 rows × 21 columns</p>\n",
       "</div>"
      ],
      "text/plain": [
       "           date      time                          location airline_operator  \\\n",
       "1    1909-09-07                      Juvisy-sur-Orge,France              NaN   \n",
       "17   1917-06-17                            Yarmouth,England              NaN   \n",
       "67   1922-04-08                          Pao Ting Fou,China              NaN   \n",
       "69   1922-07-04                         Fuhlsbuttel,Germany              NaN   \n",
       "114  1926-09-26            New York,New York, United States              NaN   \n",
       "376  1935-05-29                         San Barbra,Honduras              NaN   \n",
       "684  1943-07-04  23:00:00                         Gibraltar              NaN   \n",
       "859  1946-04-08                                Shensi,China              NaN   \n",
       "2061 1963-09-02                              Northeast Laos              NaN   \n",
       "4830 2011-12-26  05:54:00               Green Grove,Florida              NaN   \n",
       "\n",
       "                                  route                 aircraft_type  \\\n",
       "1                              Air show                Wright Byplane   \n",
       "17                                  NaN       Zepplin L-48 (air ship)   \n",
       "67                                 Test                           NaN   \n",
       "69                     Hamburg - Berlin                      LVG C VI   \n",
       "114                    New York - Paris                 Sikorsky S-25   \n",
       "376                                 NaN                           NaN   \n",
       "684                                 NaN  Consolidated Liberator B24 C   \n",
       "859                      Shensi - Yenan                           NaN   \n",
       "2061                                NaN         Curtiss C-46 Commando   \n",
       "4830  Jacksonville, FL - Gainsville, FL                     Bell 206B   \n",
       "\n",
       "     registration cn_ln all_aboard passengers_aboard  ... total_fatalities  \\\n",
       "1             SC1   NaN          1                 0  ...                1   \n",
       "17           L-48   NaN         16               NaN  ...               14   \n",
       "67            NaN   NaN         17                 0  ...               17   \n",
       "69            NaN   NaN          3                 2  ...                2   \n",
       "114           NaN   NaN          5                 4  ...                2   \n",
       "376           NaN   NaN          9               NaN  ...                6   \n",
       "684       A-L-523   NaN         13               NaN  ...               12   \n",
       "859           NaN   NaN         14                11  ...               14   \n",
       "2061          NaN   NaN         16                13  ...               15   \n",
       "4830       N5016M  2636          3                 2  ...                3   \n",
       "\n",
       "     passenger_fatalities crew_fatalities ground  \\\n",
       "1                       0               0      0   \n",
       "17                    NaN             NaN      0   \n",
       "67                      0              17      0   \n",
       "69                      1               1      0   \n",
       "114                     2               0      0   \n",
       "376                   NaN             NaN      0   \n",
       "684                   NaN             NaN      0   \n",
       "859                    11               3      0   \n",
       "2061                   12               3    NaN   \n",
       "4830                    2               1      0   \n",
       "\n",
       "                                                summary  year  \\\n",
       "1     Eugene Lefebvre was the first pilot to ever be...  1909   \n",
       "17                               Shot down by aircraft.  1917   \n",
       "67    Aboard were all workers taking part in a fligh...  1922   \n",
       "69    The passenger/mail plane lost it's engine whil...  1922   \n",
       "114   Too much weight caused the landing gear to col...  1926   \n",
       "376                        Crashed into the Ulua River.  1935   \n",
       "684   The flight, bound for London, crashed into the...  1943   \n",
       "859                                                 NaN  1946   \n",
       "2061                                    Refugee flight.  1963   \n",
       "4830  The on-demand air taxi was on a flight to proc...  2011   \n",
       "\n",
       "               date_time        country               city accident_on_water  \n",
       "1                    NaT         France    Juvisy-sur-Orge             False  \n",
       "17                   NaT        England           Yarmouth             False  \n",
       "67                   NaT          China       Pao Ting Fou             False  \n",
       "69                   NaT        Germany        Fuhlsbuttel             False  \n",
       "114                  NaT  United States  New York,New York             False  \n",
       "376                  NaT       Honduras         San Barbra             False  \n",
       "684  1943-07-04 23:00:00          other          Gibraltar             False  \n",
       "859                  NaT          China             Shensi             False  \n",
       "2061                 NaT           Laos     Northeast Laos             False  \n",
       "4830 2011-12-26 05:54:00  United States        Green Grove             False  \n",
       "\n",
       "[10 rows x 21 columns]"
      ]
     },
     "execution_count": 70,
     "metadata": {},
     "output_type": "execute_result"
    }
   ],
   "source": [
    "df[df['airline_operator'].isnull()]"
   ]
  },
  {
   "cell_type": "markdown",
   "metadata": {},
   "source": [
    "Buscando en la información complementaria observamos que no encontramos valores de manera de poder completar la columna airline_operator."
   ]
  },
  {
   "cell_type": "code",
   "execution_count": 71,
   "metadata": {},
   "outputs": [],
   "source": [
    "df['airline_operator']=df['airline_operator'].fillna('Sin Dato')"
   ]
  },
  {
   "cell_type": "code",
   "execution_count": 72,
   "metadata": {},
   "outputs": [
    {
     "data": {
      "text/plain": [
       "0"
      ]
     },
     "execution_count": 72,
     "metadata": {},
     "output_type": "execute_result"
    }
   ],
   "source": [
    "#Definimos los nulos en airline_operator\n",
    "df['airline_operator'].isnull().sum()"
   ]
  },
  {
   "cell_type": "code",
   "execution_count": 73,
   "metadata": {},
   "outputs": [
    {
     "data": {
      "text/plain": [
       "2268"
      ]
     },
     "execution_count": 73,
     "metadata": {},
     "output_type": "execute_result"
    }
   ],
   "source": [
    "df['airline_operator'].nunique()"
   ]
  },
  {
   "cell_type": "code",
   "execution_count": 74,
   "metadata": {},
   "outputs": [
    {
     "data": {
      "text/plain": [
       "airline_operator\n",
       "Aeroflot                            253\n",
       "Military - U.S. Air Force           141\n",
       "Air France                           74\n",
       "Deutsche Lufthansa                   63\n",
       "United Air Lines                     44\n",
       "                                   ... \n",
       "Sierra Pacific Airlines               1\n",
       "Pathet Lao Airlines                   1\n",
       "Military - West German Air Force      1\n",
       "Cessnyca                              1\n",
       "Kamchatka Aviation Enterprise         1\n",
       "Name: count, Length: 2268, dtype: int64"
      ]
     },
     "execution_count": 74,
     "metadata": {},
     "output_type": "execute_result"
    }
   ],
   "source": [
    "df['airline_operator'].value_counts()"
   ]
  },
  {
   "cell_type": "markdown",
   "metadata": {},
   "source": [
    "Identificamos del unique() que varios de los valores de la columna airline_operator, incluyen la palabra: Army Military o Air Force cuando se corresponden con un avión militar. Por lo tanto, haremos una distinción entre los valores que poseen estas palabras en su nombre, y los que no."
   ]
  },
  {
   "cell_type": "code",
   "execution_count": 75,
   "metadata": {},
   "outputs": [],
   "source": [
    "# Verificamos si alguna de las palabras clave está presente en la columna 'airline_operator'\n",
    "keywords = ['Military', 'Air Force', 'Army']\n",
    "pattern = '|'.join(keywords)"
   ]
  },
  {
   "cell_type": "code",
   "execution_count": 76,
   "metadata": {},
   "outputs": [],
   "source": [
    "# Creamos la nueva columna y separamos los vuelos por Militar y Passenger\n",
    "df['category'] = np.where(df['airline_operator'].str.contains('|'.join(keywords), case=False), 'military', 'passenger')"
   ]
  },
  {
   "cell_type": "code",
   "execution_count": 77,
   "metadata": {},
   "outputs": [
    {
     "data": {
      "text/plain": [
       "category\n",
       "passenger    4217\n",
       "military      791\n",
       "Name: count, dtype: int64"
      ]
     },
     "execution_count": 77,
     "metadata": {},
     "output_type": "execute_result"
    }
   ],
   "source": [
    "# Controlamos\n",
    "df_grouped_category = df['category'].value_counts()\n",
    "df_grouped_category"
   ]
  },
  {
   "cell_type": "markdown",
   "metadata": {},
   "source": [
    "### 2.6) Rutas"
   ]
  },
  {
   "cell_type": "code",
   "execution_count": 78,
   "metadata": {},
   "outputs": [
    {
     "data": {
      "text/plain": [
       "array(['Demonstration', 'Air show', 'Test flight', ...,\n",
       "       'Naypyidaw - Anisakan', 'Cagayan de Oro-Lumbia - Jolo',\n",
       "       'Petropavlovsk - Palana'], dtype=object)"
      ]
     },
     "execution_count": 78,
     "metadata": {},
     "output_type": "execute_result"
    }
   ],
   "source": [
    "# Analizamos las rutas\n",
    "df['route'].unique()"
   ]
  },
  {
   "cell_type": "code",
   "execution_count": 79,
   "metadata": {},
   "outputs": [
    {
     "data": {
      "text/plain": [
       "763"
      ]
     },
     "execution_count": 79,
     "metadata": {},
     "output_type": "execute_result"
    }
   ],
   "source": [
    "#Revisamos los valores nulos que tenemos\n",
    "df['route'].isnull().sum()"
   ]
  },
  {
   "cell_type": "code",
   "execution_count": 80,
   "metadata": {},
   "outputs": [],
   "source": [
    "# Reemplazamos los valores nulos por un valor vacío\n",
    "df['route'] = df['route'].fillna('Sin Dato')"
   ]
  },
  {
   "cell_type": "code",
   "execution_count": 81,
   "metadata": {},
   "outputs": [
    {
     "name": "stdout",
     "output_type": "stream",
     "text": [
      "<class 'pandas.core.series.Series'>\n",
      "RangeIndex: 5008 entries, 0 to 5007\n",
      "Series name: route\n",
      "Non-Null Count  Dtype \n",
      "--------------  ----- \n",
      "5008 non-null   object\n",
      "dtypes: object(1)\n",
      "memory usage: 39.3+ KB\n"
     ]
    }
   ],
   "source": [
    "df['route'].info()"
   ]
  },
  {
   "cell_type": "markdown",
   "metadata": {},
   "source": [
    "### 2.7) Tipo de aeronave"
   ]
  },
  {
   "cell_type": "code",
   "execution_count": 82,
   "metadata": {},
   "outputs": [
    {
     "data": {
      "text/plain": [
       "2468"
      ]
     },
     "execution_count": 82,
     "metadata": {},
     "output_type": "execute_result"
    }
   ],
   "source": [
    "df['aircraft_type'].nunique()"
   ]
  },
  {
   "cell_type": "code",
   "execution_count": 83,
   "metadata": {},
   "outputs": [],
   "source": [
    "# Reemplazamos los valores nulos por la leyenda Sin dato\n",
    "df['aircraft_type'] = df['aircraft_type'].fillna('Sin dato')"
   ]
  },
  {
   "cell_type": "code",
   "execution_count": 84,
   "metadata": {},
   "outputs": [
    {
     "data": {
      "text/plain": [
       "aircraft_type\n",
       "Douglas DC-3                                333\n",
       "de Havilland Canada DHC-6 Twin Otter 300     81\n",
       "Douglas C-47A                                70\n",
       "Douglas C-47                                 64\n",
       "Douglas DC-4                                 41\n",
       "                                           ... \n",
       "Vickers Viscount 759D                         1\n",
       "H-21B                                         1\n",
       "Avro 685 York C1                              1\n",
       "Piper PA-24-250 Comanche                      1\n",
       "Antonov An 26B-100                            1\n",
       "Name: count, Length: 2469, dtype: int64"
      ]
     },
     "execution_count": 84,
     "metadata": {},
     "output_type": "execute_result"
    }
   ],
   "source": [
    "df['aircraft_type'].value_counts()"
   ]
  },
  {
   "cell_type": "markdown",
   "metadata": {},
   "source": [
    "### 2.8) Total de personas abordo"
   ]
  },
  {
   "cell_type": "code",
   "execution_count": 85,
   "metadata": {},
   "outputs": [
    {
     "data": {
      "text/plain": [
       "17"
      ]
     },
     "execution_count": 85,
     "metadata": {},
     "output_type": "execute_result"
    }
   ],
   "source": [
    "df['all_aboard'].isnull().sum()"
   ]
  },
  {
   "cell_type": "code",
   "execution_count": 86,
   "metadata": {},
   "outputs": [
    {
     "name": "stdout",
     "output_type": "stream",
     "text": [
      "<class 'pandas.core.series.Series'>\n",
      "RangeIndex: 5008 entries, 0 to 5007\n",
      "Series name: all_aboard\n",
      "Non-Null Count  Dtype \n",
      "--------------  ----- \n",
      "4991 non-null   object\n",
      "dtypes: object(1)\n",
      "memory usage: 39.3+ KB\n"
     ]
    }
   ],
   "source": [
    "df['all_aboard'].info()"
   ]
  },
  {
   "cell_type": "code",
   "execution_count": 87,
   "metadata": {},
   "outputs": [
    {
     "data": {
      "text/plain": [
       "244"
      ]
     },
     "execution_count": 87,
     "metadata": {},
     "output_type": "execute_result"
    }
   ],
   "source": [
    "df['all_aboard'].nunique()"
   ]
  },
  {
   "cell_type": "code",
   "execution_count": 88,
   "metadata": {},
   "outputs": [],
   "source": [
    "# Reemplazamos los valores nulos por un valor vacío\n",
    "df['all_aboard'] = df['all_aboard'].fillna('')"
   ]
  },
  {
   "cell_type": "code",
   "execution_count": 89,
   "metadata": {},
   "outputs": [],
   "source": [
    "# Convertimos la columna 'total_abord' a tipo numérico \n",
    "df['all_aboard'] = pd.to_numeric(df['all_aboard'], errors='coerce')"
   ]
  },
  {
   "cell_type": "code",
   "execution_count": 90,
   "metadata": {},
   "outputs": [
    {
     "name": "stdout",
     "output_type": "stream",
     "text": [
      "<class 'pandas.core.series.Series'>\n",
      "RangeIndex: 5008 entries, 0 to 5007\n",
      "Series name: all_aboard\n",
      "Non-Null Count  Dtype  \n",
      "--------------  -----  \n",
      "4991 non-null   float64\n",
      "dtypes: float64(1)\n",
      "memory usage: 39.3 KB\n"
     ]
    }
   ],
   "source": [
    "df['all_aboard'].info()"
   ]
  },
  {
   "cell_type": "code",
   "execution_count": 91,
   "metadata": {},
   "outputs": [
    {
     "data": {
      "text/html": [
       "<div>\n",
       "<style scoped>\n",
       "    .dataframe tbody tr th:only-of-type {\n",
       "        vertical-align: middle;\n",
       "    }\n",
       "\n",
       "    .dataframe tbody tr th {\n",
       "        vertical-align: top;\n",
       "    }\n",
       "\n",
       "    .dataframe thead th {\n",
       "        text-align: right;\n",
       "    }\n",
       "</style>\n",
       "<table border=\"1\" class=\"dataframe\">\n",
       "  <thead>\n",
       "    <tr style=\"text-align: right;\">\n",
       "      <th></th>\n",
       "      <th>date</th>\n",
       "      <th>time</th>\n",
       "      <th>location</th>\n",
       "      <th>airline_operator</th>\n",
       "      <th>route</th>\n",
       "      <th>aircraft_type</th>\n",
       "      <th>registration</th>\n",
       "      <th>cn_ln</th>\n",
       "      <th>all_aboard</th>\n",
       "      <th>passengers_aboard</th>\n",
       "      <th>...</th>\n",
       "      <th>passenger_fatalities</th>\n",
       "      <th>crew_fatalities</th>\n",
       "      <th>ground</th>\n",
       "      <th>summary</th>\n",
       "      <th>year</th>\n",
       "      <th>date_time</th>\n",
       "      <th>country</th>\n",
       "      <th>city</th>\n",
       "      <th>accident_on_water</th>\n",
       "      <th>category</th>\n",
       "    </tr>\n",
       "  </thead>\n",
       "  <tbody>\n",
       "    <tr>\n",
       "      <th>30</th>\n",
       "      <td>1919-10-20</td>\n",
       "      <td></td>\n",
       "      <td>English Channel off Forkstone,Kent</td>\n",
       "      <td>Aircraft Transport and Travel</td>\n",
       "      <td>Sin Dato</td>\n",
       "      <td>De Havilland DH-4</td>\n",
       "      <td>G-EAHG</td>\n",
       "      <td>NaN</td>\n",
       "      <td>0.0</td>\n",
       "      <td>0</td>\n",
       "      <td>...</td>\n",
       "      <td>0</td>\n",
       "      <td>0</td>\n",
       "      <td>0</td>\n",
       "      <td>Crashed into the sea while attempting to land ...</td>\n",
       "      <td>1919</td>\n",
       "      <td>NaT</td>\n",
       "      <td>other</td>\n",
       "      <td>English Channel off Forkstone</td>\n",
       "      <td>True</td>\n",
       "      <td>passenger</td>\n",
       "    </tr>\n",
       "    <tr>\n",
       "      <th>120</th>\n",
       "      <td>1927-01-12</td>\n",
       "      <td></td>\n",
       "      <td>Estaires,France</td>\n",
       "      <td>Fokker</td>\n",
       "      <td>Delivery flight</td>\n",
       "      <td>Fokker F-VII</td>\n",
       "      <td>G-EBPL</td>\n",
       "      <td>4938</td>\n",
       "      <td>0.0</td>\n",
       "      <td>0</td>\n",
       "      <td>...</td>\n",
       "      <td>0</td>\n",
       "      <td>2</td>\n",
       "      <td>0</td>\n",
       "      <td>The flight crew encountered poor weather condi...</td>\n",
       "      <td>1927</td>\n",
       "      <td>NaT</td>\n",
       "      <td>France</td>\n",
       "      <td>Estaires</td>\n",
       "      <td>False</td>\n",
       "      <td>passenger</td>\n",
       "    </tr>\n",
       "    <tr>\n",
       "      <th>1121</th>\n",
       "      <td>1949-07-13</td>\n",
       "      <td></td>\n",
       "      <td>Jamnagar,Gujarat state,India</td>\n",
       "      <td>Indian Air Force</td>\n",
       "      <td>Training</td>\n",
       "      <td>Hawker Hunter</td>\n",
       "      <td>NaN</td>\n",
       "      <td>NaN</td>\n",
       "      <td>0.0</td>\n",
       "      <td>1</td>\n",
       "      <td>...</td>\n",
       "      <td>1</td>\n",
       "      <td>1</td>\n",
       "      <td>14</td>\n",
       "      <td>Crashed into a garage near Jamnagar railway st...</td>\n",
       "      <td>1949</td>\n",
       "      <td>NaT</td>\n",
       "      <td>India</td>\n",
       "      <td>Jamnagar,Gujarat state</td>\n",
       "      <td>False</td>\n",
       "      <td>military</td>\n",
       "    </tr>\n",
       "    <tr>\n",
       "      <th>3144</th>\n",
       "      <td>1981-09-22</td>\n",
       "      <td></td>\n",
       "      <td>Babaeski,Turkey</td>\n",
       "      <td>Military - Turkish Air Force</td>\n",
       "      <td>Sin Dato</td>\n",
       "      <td>Northrop F-5A</td>\n",
       "      <td>NaN</td>\n",
       "      <td>NaN</td>\n",
       "      <td>0.0</td>\n",
       "      <td>0</td>\n",
       "      <td>...</td>\n",
       "      <td>0</td>\n",
       "      <td>0</td>\n",
       "      <td>40</td>\n",
       "      <td>The fighter crashed into a village after the p...</td>\n",
       "      <td>1981</td>\n",
       "      <td>NaT</td>\n",
       "      <td>Turkey</td>\n",
       "      <td>Babaeski</td>\n",
       "      <td>False</td>\n",
       "      <td>military</td>\n",
       "    </tr>\n",
       "    <tr>\n",
       "      <th>3376</th>\n",
       "      <td>1986-03-27</td>\n",
       "      <td></td>\n",
       "      <td>Bangui,Central African Republic</td>\n",
       "      <td>Military - French Air Force</td>\n",
       "      <td>Sin Dato</td>\n",
       "      <td>Sepecat Jaguar A</td>\n",
       "      <td>NaN</td>\n",
       "      <td>NaN</td>\n",
       "      <td>0.0</td>\n",
       "      <td>0</td>\n",
       "      <td>...</td>\n",
       "      <td>0</td>\n",
       "      <td>0</td>\n",
       "      <td>35</td>\n",
       "      <td>The jet fighter crashed into a school shortly ...</td>\n",
       "      <td>1986</td>\n",
       "      <td>NaT</td>\n",
       "      <td>Central African Republic</td>\n",
       "      <td>Bangui</td>\n",
       "      <td>False</td>\n",
       "      <td>military</td>\n",
       "    </tr>\n",
       "  </tbody>\n",
       "</table>\n",
       "<p>5 rows × 22 columns</p>\n",
       "</div>"
      ],
      "text/plain": [
       "           date time                            location  \\\n",
       "30   1919-10-20       English Channel off Forkstone,Kent   \n",
       "120  1927-01-12                          Estaires,France   \n",
       "1121 1949-07-13             Jamnagar,Gujarat state,India   \n",
       "3144 1981-09-22                          Babaeski,Turkey   \n",
       "3376 1986-03-27          Bangui,Central African Republic   \n",
       "\n",
       "                   airline_operator            route      aircraft_type  \\\n",
       "30    Aircraft Transport and Travel         Sin Dato  De Havilland DH-4   \n",
       "120                          Fokker  Delivery flight       Fokker F-VII   \n",
       "1121               Indian Air Force         Training      Hawker Hunter   \n",
       "3144   Military - Turkish Air Force         Sin Dato      Northrop F-5A   \n",
       "3376    Military - French Air Force         Sin Dato   Sepecat Jaguar A   \n",
       "\n",
       "     registration cn_ln  all_aboard passengers_aboard  ...  \\\n",
       "30         G-EAHG   NaN         0.0                 0  ...   \n",
       "120        G-EBPL  4938         0.0                 0  ...   \n",
       "1121          NaN   NaN         0.0                 1  ...   \n",
       "3144          NaN   NaN         0.0                 0  ...   \n",
       "3376          NaN   NaN         0.0                 0  ...   \n",
       "\n",
       "     passenger_fatalities crew_fatalities ground  \\\n",
       "30                      0               0      0   \n",
       "120                     0               2      0   \n",
       "1121                    1               1     14   \n",
       "3144                    0               0     40   \n",
       "3376                    0               0     35   \n",
       "\n",
       "                                                summary  year date_time  \\\n",
       "30    Crashed into the sea while attempting to land ...  1919       NaT   \n",
       "120   The flight crew encountered poor weather condi...  1927       NaT   \n",
       "1121  Crashed into a garage near Jamnagar railway st...  1949       NaT   \n",
       "3144  The fighter crashed into a village after the p...  1981       NaT   \n",
       "3376  The jet fighter crashed into a school shortly ...  1986       NaT   \n",
       "\n",
       "                       country                           city  \\\n",
       "30                       other  English Channel off Forkstone   \n",
       "120                     France                       Estaires   \n",
       "1121                     India         Jamnagar,Gujarat state   \n",
       "3144                    Turkey                       Babaeski   \n",
       "3376  Central African Republic                         Bangui   \n",
       "\n",
       "     accident_on_water   category  \n",
       "30                True  passenger  \n",
       "120              False  passenger  \n",
       "1121             False   military  \n",
       "3144             False   military  \n",
       "3376             False   military  \n",
       "\n",
       "[5 rows x 22 columns]"
      ]
     },
     "execution_count": 91,
     "metadata": {},
     "output_type": "execute_result"
    }
   ],
   "source": [
    "#  Revisamos los registros que no tenian personas a bordo\n",
    "df[df['all_aboard']==0.0]"
   ]
  },
  {
   "cell_type": "markdown",
   "metadata": {},
   "source": [
    "Vemos que hay varios registros con all_aboard = 0 o valores nulos. Podría eliminarlos, pero decido no perder información sobre las ciudades, países, tipos de aircraft, fechas y años. Por lo tanto, relleno con vacíos en esta sección, considerando que la información identifica en estas columnas a la hora de elegir los KPIs puede verse afectada por esta información."
   ]
  },
  {
   "cell_type": "markdown",
   "metadata": {},
   "source": [
    "## 2.9) Pasajeros a bordo"
   ]
  },
  {
   "cell_type": "code",
   "execution_count": 92,
   "metadata": {},
   "outputs": [
    {
     "data": {
      "text/plain": [
       "221"
      ]
     },
     "execution_count": 92,
     "metadata": {},
     "output_type": "execute_result"
    }
   ],
   "source": [
    "df['passengers_aboard'].isnull().sum()"
   ]
  },
  {
   "cell_type": "code",
   "execution_count": 93,
   "metadata": {},
   "outputs": [],
   "source": [
    "# Reemplazamos los valores nulos por un valor vacío\n",
    "df['passengers_aboard'] = df['passengers_aboard'].fillna('')"
   ]
  },
  {
   "cell_type": "code",
   "execution_count": 94,
   "metadata": {},
   "outputs": [],
   "source": [
    "# Convertimos la columna 'passengers_abord' a tipo numérico \n",
    "df['passengers_aboard'] = pd.to_numeric(df['passengers_aboard'], errors='coerce')"
   ]
  },
  {
   "cell_type": "code",
   "execution_count": 95,
   "metadata": {},
   "outputs": [
    {
     "name": "stdout",
     "output_type": "stream",
     "text": [
      "<class 'pandas.core.series.Series'>\n",
      "RangeIndex: 5008 entries, 0 to 5007\n",
      "Series name: passengers_aboard\n",
      "Non-Null Count  Dtype  \n",
      "--------------  -----  \n",
      "4787 non-null   float64\n",
      "dtypes: float64(1)\n",
      "memory usage: 39.3 KB\n"
     ]
    }
   ],
   "source": [
    "#Verificamos el tipo de dato\n",
    "df['passengers_aboard'].info()"
   ]
  },
  {
   "cell_type": "markdown",
   "metadata": {},
   "source": [
    "### 2.10) Miembros de la tripulación abordo\n"
   ]
  },
  {
   "cell_type": "code",
   "execution_count": 96,
   "metadata": {},
   "outputs": [
    {
     "data": {
      "text/plain": [
       "219"
      ]
     },
     "execution_count": 96,
     "metadata": {},
     "output_type": "execute_result"
    }
   ],
   "source": [
    "df['crew_aboard'].isnull().sum()"
   ]
  },
  {
   "cell_type": "code",
   "execution_count": 97,
   "metadata": {},
   "outputs": [],
   "source": [
    "df['crew_aboard'] = df['crew_aboard'].fillna('')"
   ]
  },
  {
   "cell_type": "code",
   "execution_count": 98,
   "metadata": {},
   "outputs": [],
   "source": [
    "# Convertimos la columna 'crew_abord' a tipo numérico \n",
    "df['crew_aboard'] = pd.to_numeric(df['crew_aboard'], errors='coerce')"
   ]
  },
  {
   "cell_type": "code",
   "execution_count": 99,
   "metadata": {},
   "outputs": [
    {
     "name": "stdout",
     "output_type": "stream",
     "text": [
      "<class 'pandas.core.series.Series'>\n",
      "RangeIndex: 5008 entries, 0 to 5007\n",
      "Series name: crew_aboard\n",
      "Non-Null Count  Dtype  \n",
      "--------------  -----  \n",
      "4789 non-null   float64\n",
      "dtypes: float64(1)\n",
      "memory usage: 39.3 KB\n"
     ]
    }
   ],
   "source": [
    "#Verificamos el tipo de dato\n",
    "df['crew_aboard'].info()"
   ]
  },
  {
   "cell_type": "markdown",
   "metadata": {},
   "source": [
    "### 2.11) Total de fallecidos"
   ]
  },
  {
   "cell_type": "code",
   "execution_count": 100,
   "metadata": {},
   "outputs": [
    {
     "data": {
      "text/plain": [
       "8"
      ]
     },
     "execution_count": 100,
     "metadata": {},
     "output_type": "execute_result"
    }
   ],
   "source": [
    "df['total_fatalities'].isnull().sum()"
   ]
  },
  {
   "cell_type": "code",
   "execution_count": 101,
   "metadata": {},
   "outputs": [],
   "source": [
    "# Reemplazamos los valores nulos por un valor vacío\n",
    "df['total_fatalities'] = df['total_fatalities'].fillna('')"
   ]
  },
  {
   "cell_type": "code",
   "execution_count": 102,
   "metadata": {},
   "outputs": [],
   "source": [
    "# Convertimos la columna 'total_abord' a tipo numérico \n",
    "df['total_fatalities'] = pd.to_numeric(df['total_fatalities'], errors='coerce')"
   ]
  },
  {
   "cell_type": "code",
   "execution_count": 103,
   "metadata": {},
   "outputs": [
    {
     "data": {
      "text/plain": [
       "8"
      ]
     },
     "execution_count": 103,
     "metadata": {},
     "output_type": "execute_result"
    }
   ],
   "source": [
    "df['total_fatalities'].isnull().sum()"
   ]
  },
  {
   "cell_type": "markdown",
   "metadata": {},
   "source": [
    "### 2.12) Pasajeros fallecidos"
   ]
  },
  {
   "cell_type": "code",
   "execution_count": 104,
   "metadata": {},
   "outputs": [
    {
     "data": {
      "text/plain": [
       "235"
      ]
     },
     "execution_count": 104,
     "metadata": {},
     "output_type": "execute_result"
    }
   ],
   "source": [
    "df['passenger_fatalities'].isnull().sum()"
   ]
  },
  {
   "cell_type": "code",
   "execution_count": 105,
   "metadata": {},
   "outputs": [],
   "source": [
    "# Reemplazamos los valores nulos por un valor vacío\n",
    "df['passenger_fatalities'] = df['passenger_fatalities'].fillna('')"
   ]
  },
  {
   "cell_type": "code",
   "execution_count": 106,
   "metadata": {},
   "outputs": [],
   "source": [
    "# Convertimos la columna 'passenger_fatalities' a tipo numérico \n",
    "df['passenger_fatalities'] = pd.to_numeric(df['passenger_fatalities'], errors='coerce')"
   ]
  },
  {
   "cell_type": "markdown",
   "metadata": {},
   "source": [
    "### 2.13) Miembros de la tripulación fallecidos"
   ]
  },
  {
   "cell_type": "code",
   "execution_count": 107,
   "metadata": {},
   "outputs": [
    {
     "data": {
      "text/plain": [
       "235"
      ]
     },
     "execution_count": 107,
     "metadata": {},
     "output_type": "execute_result"
    }
   ],
   "source": [
    "df['crew_fatalities'].isnull().sum()"
   ]
  },
  {
   "cell_type": "code",
   "execution_count": 108,
   "metadata": {},
   "outputs": [],
   "source": [
    "# Reemplazamos los valores nulos por un valor vacío\n",
    "df['crew_fatalities'] = df['crew_fatalities'].fillna('')"
   ]
  },
  {
   "cell_type": "code",
   "execution_count": 109,
   "metadata": {},
   "outputs": [],
   "source": [
    "# Convertimos la columna 'crew_fatalities' a tipo numérico \n",
    "df['crew_fatalities'] = pd.to_numeric(df['crew_fatalities'], errors='coerce')"
   ]
  },
  {
   "cell_type": "code",
   "execution_count": 110,
   "metadata": {},
   "outputs": [
    {
     "data": {
      "text/plain": [
       "235"
      ]
     },
     "execution_count": 110,
     "metadata": {},
     "output_type": "execute_result"
    }
   ],
   "source": [
    "df['crew_fatalities'].isnull().sum()"
   ]
  },
  {
   "cell_type": "markdown",
   "metadata": {},
   "source": [
    "### 2.14) Sobrevivientes"
   ]
  },
  {
   "cell_type": "code",
   "execution_count": 111,
   "metadata": {},
   "outputs": [],
   "source": [
    "# Creamos columna de sobrevivientes\n",
    "df['survivors'] = df['all_aboard'] - df['total_fatalities']"
   ]
  },
  {
   "cell_type": "code",
   "execution_count": 112,
   "metadata": {},
   "outputs": [],
   "source": [
    "# Convertimos la columna 'survivors' a tipo numérico \n",
    "df['survivors'] = pd.to_numeric(df['survivors'], errors='coerce')"
   ]
  },
  {
   "cell_type": "code",
   "execution_count": 113,
   "metadata": {},
   "outputs": [
    {
     "data": {
      "text/plain": [
       "array([  1.,   0.,   6.,  24.,   2.,  nan,   4.,  11.,  10.,  29.,  12.,\n",
       "         3.,   5.,   7.,  14.,   8.,  81.,   9.,  22.,  62.,  13.,  17.,\n",
       "        19.,  18.,  20.,  26.,  15.,  28.,  36.,  23.,  39.,  21.,  35.,\n",
       "        16.,  54.,  69.,  25.,  43.,  68.,  31.,  33.,  52.,  30.,  50.,\n",
       "        32.,  37.,  58.,  34.,  38.,  46.,  56.,  73.,  27.,  80., 137.,\n",
       "        41.,  67.,  42.,  48.,  40.,  57., 102.,  84., 105.,  87.,  90.,\n",
       "        51.,  76., 153.,  66., 108.,  78.,  45., 126.,  60.,  49., 122.,\n",
       "        82., 107.,  44.,  86.,  91., 182.,  53., 218.,  99.,  64.,  83.,\n",
       "       123., 114.,  59., 148., 127., 147., 297.,  98., 175.,  63., 131.,\n",
       "       100., 251.,  61., 106., 198.,  55., 130.,  79., 179., 142., 133.,\n",
       "       167., 211., 289., 210., 150., 116.,  94., 257., 284., 344.,  70.,\n",
       "        92., 172.,  95.,  47., 177., 274.,  89., 152.,  71., 117., 128.,\n",
       "       368.,  77., 162., 132., 110., 347.,  93., 186.,  97., 124.,  85.,\n",
       "       111.,  96., 190., 168., 129., 292., 262., 160., 140., 236., 272.,\n",
       "       392., 134., 516., 312., 244., 298., 188.,  88., 113., 171., 304.,\n",
       "       138., 166., 309., 103., 119., 118., 165., 115., 155., 125., 121.,\n",
       "       300., 174., 170.])"
      ]
     },
     "execution_count": 113,
     "metadata": {},
     "output_type": "execute_result"
    }
   ],
   "source": [
    "df['survivors'].unique()"
   ]
  },
  {
   "cell_type": "markdown",
   "metadata": {},
   "source": [
    "### 2.15) Tasa de sobrevivientes"
   ]
  },
  {
   "cell_type": "code",
   "execution_count": 114,
   "metadata": {},
   "outputs": [],
   "source": [
    "#Creamos la columna porcentaje de superviviencia\n",
    "df['survival_rate'] = round((df['survivors'] / df['all_aboard'])*100,2)"
   ]
  },
  {
   "cell_type": "code",
   "execution_count": 115,
   "metadata": {},
   "outputs": [
    {
     "data": {
      "text/plain": [
       "0       50.00\n",
       "1        0.00\n",
       "2        0.00\n",
       "3        0.00\n",
       "4       30.00\n",
       "        ...  \n",
       "5003    16.67\n",
       "5004     0.00\n",
       "5005    14.29\n",
       "5006    47.92\n",
       "5007     0.00\n",
       "Name: survival_rate, Length: 5008, dtype: float64"
      ]
     },
     "execution_count": 115,
     "metadata": {},
     "output_type": "execute_result"
    }
   ],
   "source": [
    "df['survival_rate']"
   ]
  },
  {
   "cell_type": "code",
   "execution_count": 116,
   "metadata": {},
   "outputs": [],
   "source": [
    "df['survivors']=df['survivors'].fillna('')"
   ]
  },
  {
   "cell_type": "markdown",
   "metadata": {},
   "source": [
    "### 2.16) Summary"
   ]
  },
  {
   "cell_type": "code",
   "execution_count": 117,
   "metadata": {},
   "outputs": [
    {
     "data": {
      "text/plain": [
       "59"
      ]
     },
     "execution_count": 117,
     "metadata": {},
     "output_type": "execute_result"
    }
   ],
   "source": [
    "df['summary'].isnull().sum()"
   ]
  },
  {
   "cell_type": "code",
   "execution_count": 118,
   "metadata": {},
   "outputs": [],
   "source": [
    "df['summary']=df['summary'].fillna('Sin dato')"
   ]
  },
  {
   "cell_type": "markdown",
   "metadata": {},
   "source": [
    "Finalmente y luego de este análisis, elegimos quedarnos con las columnas que nos permiten poder trabajar más en profundida nuestro análisis. Decidimos eliminar las columnas: registration, cn_ln y ground."
   ]
  },
  {
   "cell_type": "code",
   "execution_count": 119,
   "metadata": {},
   "outputs": [],
   "source": [
    "df=df.drop(columns=['registration', 'cn_ln', 'ground'])"
   ]
  },
  {
   "cell_type": "code",
   "execution_count": 120,
   "metadata": {},
   "outputs": [
    {
     "data": {
      "text/html": [
       "<div>\n",
       "<style scoped>\n",
       "    .dataframe tbody tr th:only-of-type {\n",
       "        vertical-align: middle;\n",
       "    }\n",
       "\n",
       "    .dataframe tbody tr th {\n",
       "        vertical-align: top;\n",
       "    }\n",
       "\n",
       "    .dataframe thead th {\n",
       "        text-align: right;\n",
       "    }\n",
       "</style>\n",
       "<table border=\"1\" class=\"dataframe\">\n",
       "  <thead>\n",
       "    <tr style=\"text-align: right;\">\n",
       "      <th></th>\n",
       "      <th>date</th>\n",
       "      <th>time</th>\n",
       "      <th>location</th>\n",
       "      <th>airline_operator</th>\n",
       "      <th>route</th>\n",
       "      <th>aircraft_type</th>\n",
       "      <th>all_aboard</th>\n",
       "      <th>passengers_aboard</th>\n",
       "      <th>crew_aboard</th>\n",
       "      <th>total_fatalities</th>\n",
       "      <th>...</th>\n",
       "      <th>crew_fatalities</th>\n",
       "      <th>summary</th>\n",
       "      <th>year</th>\n",
       "      <th>date_time</th>\n",
       "      <th>country</th>\n",
       "      <th>city</th>\n",
       "      <th>accident_on_water</th>\n",
       "      <th>category</th>\n",
       "      <th>survivors</th>\n",
       "      <th>survival_rate</th>\n",
       "    </tr>\n",
       "  </thead>\n",
       "  <tbody>\n",
       "    <tr>\n",
       "      <th>0</th>\n",
       "      <td>1908-09-17</td>\n",
       "      <td>17:18:00</td>\n",
       "      <td>Fort Myer,Virginia, United States</td>\n",
       "      <td>Military - U.S. Army</td>\n",
       "      <td>Demonstration</td>\n",
       "      <td>Wright Flyer III</td>\n",
       "      <td>2.0</td>\n",
       "      <td>1.0</td>\n",
       "      <td>1.0</td>\n",
       "      <td>1.0</td>\n",
       "      <td>...</td>\n",
       "      <td>0.0</td>\n",
       "      <td>During a demonstration flight, a U.S. Army fly...</td>\n",
       "      <td>1908</td>\n",
       "      <td>1908-09-17 17:18:00</td>\n",
       "      <td>United States</td>\n",
       "      <td>Fort Myer,Virginia</td>\n",
       "      <td>False</td>\n",
       "      <td>military</td>\n",
       "      <td>1.0</td>\n",
       "      <td>50.0</td>\n",
       "    </tr>\n",
       "    <tr>\n",
       "      <th>1</th>\n",
       "      <td>1909-09-07</td>\n",
       "      <td></td>\n",
       "      <td>Juvisy-sur-Orge,France</td>\n",
       "      <td>Sin Dato</td>\n",
       "      <td>Air show</td>\n",
       "      <td>Wright Byplane</td>\n",
       "      <td>1.0</td>\n",
       "      <td>0.0</td>\n",
       "      <td>1.0</td>\n",
       "      <td>1.0</td>\n",
       "      <td>...</td>\n",
       "      <td>0.0</td>\n",
       "      <td>Eugene Lefebvre was the first pilot to ever be...</td>\n",
       "      <td>1909</td>\n",
       "      <td>NaT</td>\n",
       "      <td>France</td>\n",
       "      <td>Juvisy-sur-Orge</td>\n",
       "      <td>False</td>\n",
       "      <td>passenger</td>\n",
       "      <td>0.0</td>\n",
       "      <td>0.0</td>\n",
       "    </tr>\n",
       "    <tr>\n",
       "      <th>2</th>\n",
       "      <td>1912-07-12</td>\n",
       "      <td>06:30:00</td>\n",
       "      <td>Atlantic City,New Jersey, United States</td>\n",
       "      <td>Military - U.S. Navy</td>\n",
       "      <td>Test flight</td>\n",
       "      <td>Dirigible</td>\n",
       "      <td>5.0</td>\n",
       "      <td>0.0</td>\n",
       "      <td>5.0</td>\n",
       "      <td>5.0</td>\n",
       "      <td>...</td>\n",
       "      <td>5.0</td>\n",
       "      <td>First U.S. dirigible Akron exploded just offsh...</td>\n",
       "      <td>1912</td>\n",
       "      <td>1912-07-12 06:30:00</td>\n",
       "      <td>United States</td>\n",
       "      <td>Atlantic City,New Jersey</td>\n",
       "      <td>False</td>\n",
       "      <td>military</td>\n",
       "      <td>0.0</td>\n",
       "      <td>0.0</td>\n",
       "    </tr>\n",
       "    <tr>\n",
       "      <th>3</th>\n",
       "      <td>1913-08-06</td>\n",
       "      <td></td>\n",
       "      <td>Victoria,British Columbia,Canada</td>\n",
       "      <td>Private</td>\n",
       "      <td>Sin Dato</td>\n",
       "      <td>Curtiss seaplane</td>\n",
       "      <td>1.0</td>\n",
       "      <td>0.0</td>\n",
       "      <td>1.0</td>\n",
       "      <td>1.0</td>\n",
       "      <td>...</td>\n",
       "      <td>1.0</td>\n",
       "      <td>The first fatal airplane accident in Canada oc...</td>\n",
       "      <td>1913</td>\n",
       "      <td>NaT</td>\n",
       "      <td>Canada</td>\n",
       "      <td>Victoria,British Columbia</td>\n",
       "      <td>False</td>\n",
       "      <td>passenger</td>\n",
       "      <td>0.0</td>\n",
       "      <td>0.0</td>\n",
       "    </tr>\n",
       "    <tr>\n",
       "      <th>4</th>\n",
       "      <td>1913-09-09</td>\n",
       "      <td>18:30:00</td>\n",
       "      <td>the North Sea</td>\n",
       "      <td>Military - German Navy</td>\n",
       "      <td>Sin Dato</td>\n",
       "      <td>Zeppelin L-1 (airship)</td>\n",
       "      <td>20.0</td>\n",
       "      <td>NaN</td>\n",
       "      <td>NaN</td>\n",
       "      <td>14.0</td>\n",
       "      <td>...</td>\n",
       "      <td>NaN</td>\n",
       "      <td>The airship flew into a thunderstorm and encou...</td>\n",
       "      <td>1913</td>\n",
       "      <td>1913-09-09 18:30:00</td>\n",
       "      <td>other</td>\n",
       "      <td>the North Sea</td>\n",
       "      <td>True</td>\n",
       "      <td>military</td>\n",
       "      <td>6.0</td>\n",
       "      <td>30.0</td>\n",
       "    </tr>\n",
       "  </tbody>\n",
       "</table>\n",
       "<p>5 rows × 21 columns</p>\n",
       "</div>"
      ],
      "text/plain": [
       "        date      time                                 location  \\\n",
       "0 1908-09-17  17:18:00        Fort Myer,Virginia, United States   \n",
       "1 1909-09-07                             Juvisy-sur-Orge,France   \n",
       "2 1912-07-12  06:30:00  Atlantic City,New Jersey, United States   \n",
       "3 1913-08-06                   Victoria,British Columbia,Canada   \n",
       "4 1913-09-09  18:30:00                            the North Sea   \n",
       "\n",
       "         airline_operator          route           aircraft_type  all_aboard  \\\n",
       "0    Military - U.S. Army  Demonstration        Wright Flyer III         2.0   \n",
       "1                Sin Dato       Air show          Wright Byplane         1.0   \n",
       "2    Military - U.S. Navy    Test flight               Dirigible         5.0   \n",
       "3                 Private       Sin Dato        Curtiss seaplane         1.0   \n",
       "4  Military - German Navy       Sin Dato  Zeppelin L-1 (airship)        20.0   \n",
       "\n",
       "   passengers_aboard  crew_aboard  total_fatalities  ...  crew_fatalities  \\\n",
       "0                1.0          1.0               1.0  ...              0.0   \n",
       "1                0.0          1.0               1.0  ...              0.0   \n",
       "2                0.0          5.0               5.0  ...              5.0   \n",
       "3                0.0          1.0               1.0  ...              1.0   \n",
       "4                NaN          NaN              14.0  ...              NaN   \n",
       "\n",
       "                                             summary  year  \\\n",
       "0  During a demonstration flight, a U.S. Army fly...  1908   \n",
       "1  Eugene Lefebvre was the first pilot to ever be...  1909   \n",
       "2  First U.S. dirigible Akron exploded just offsh...  1912   \n",
       "3  The first fatal airplane accident in Canada oc...  1913   \n",
       "4  The airship flew into a thunderstorm and encou...  1913   \n",
       "\n",
       "            date_time        country                       city  \\\n",
       "0 1908-09-17 17:18:00  United States         Fort Myer,Virginia   \n",
       "1                 NaT         France            Juvisy-sur-Orge   \n",
       "2 1912-07-12 06:30:00  United States   Atlantic City,New Jersey   \n",
       "3                 NaT         Canada  Victoria,British Columbia   \n",
       "4 1913-09-09 18:30:00          other              the North Sea   \n",
       "\n",
       "  accident_on_water   category survivors survival_rate  \n",
       "0             False   military       1.0          50.0  \n",
       "1             False  passenger       0.0           0.0  \n",
       "2             False   military       0.0           0.0  \n",
       "3             False  passenger       0.0           0.0  \n",
       "4              True   military       6.0          30.0  \n",
       "\n",
       "[5 rows x 21 columns]"
      ]
     },
     "execution_count": 120,
     "metadata": {},
     "output_type": "execute_result"
    }
   ],
   "source": [
    "df.head()"
   ]
  },
  {
   "cell_type": "markdown",
   "metadata": {},
   "source": [
    "## 3) Exportamos a csv para realizar el EDA"
   ]
  },
  {
   "cell_type": "code",
   "execution_count": 121,
   "metadata": {},
   "outputs": [],
   "source": [
    "#Exportamos a csv\n",
    "df.to_csv('Accidentes_tratado.csv', index=False)"
   ]
  }
 ],
 "metadata": {
  "kernelspec": {
   "display_name": "Python 3",
   "language": "python",
   "name": "python3"
  },
  "language_info": {
   "codemirror_mode": {
    "name": "ipython",
    "version": 3
   },
   "file_extension": ".py",
   "mimetype": "text/x-python",
   "name": "python",
   "nbconvert_exporter": "python",
   "pygments_lexer": "ipython3",
   "version": "3.11.2"
  },
  "orig_nbformat": 4
 },
 "nbformat": 4,
 "nbformat_minor": 2
}
